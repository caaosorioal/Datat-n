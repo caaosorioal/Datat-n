{
  "nbformat": 4,
  "nbformat_minor": 0,
  "metadata": {
    "kernelspec": {
      "display_name": "Python 3",
      "language": "python",
      "name": "python3"
    },
    "language_info": {
      "codemirror_mode": {
        "name": "ipython",
        "version": 3
      },
      "file_extension": ".py",
      "mimetype": "text/x-python",
      "name": "python",
      "nbconvert_exporter": "python",
      "pygments_lexer": "ipython3",
      "version": "3.7.3"
    },
    "colab": {
      "name": "Copia de Dataton.ipynb",
      "provenance": [],
      "collapsed_sections": [
        "B1WBRnP1-rpv",
        "cYSjtbdc-rp-",
        "1izoEY2V-rqR",
        "PqyPUuDA-rqq",
        "wsoJvzr4-rrA",
        "qfJ_uELX-rrN",
        "OROrP61_-rrV",
        "bIvcVB7v-rre"
      ],
      "include_colab_link": true
    }
  },
  "cells": [
    {
      "cell_type": "markdown",
      "metadata": {
        "id": "view-in-github",
        "colab_type": "text"
      },
      "source": [
        "<a href=\"https://colab.research.google.com/github/caaosorioal/Datat-n/blob/master/Copia_de_Dataton.ipynb\" target=\"_parent\"><img src=\"https://colab.research.google.com/assets/colab-badge.svg\" alt=\"Open In Colab\"/></a>"
      ]
    },
    {
      "cell_type": "code",
      "metadata": {
        "id": "waYvGazx-rog",
        "colab_type": "code",
        "colab": {}
      },
      "source": [
        "import pandas as pd\n",
        "import numpy as np\n",
        "import matplotlib.pyplot as plt\n",
        "import matplotlib.style as style\n",
        "import seaborn as sns\n",
        "import random"
      ],
      "execution_count": 0,
      "outputs": []
    },
    {
      "cell_type": "markdown",
      "metadata": {
        "id": "ZK8b8NMq-ron",
        "colab_type": "text"
      },
      "source": [
        "# Carga de los datos"
      ]
    },
    {
      "cell_type": "code",
      "metadata": {
        "id": "BQclXdII-rop",
        "colab_type": "code",
        "colab": {}
      },
      "source": [
        "ruta = 'D:\\\\Datos\\\\Dataton\\\\'\n",
        "\n",
        "archivo_etiquetas = 'DT19_Datos_Var_Rpta_train.csv'\n",
        "archivo_datos = 'DT19_Datos_transaccionales_train.csv'\n",
        "archivo_maestra = 'DT19_maestro_cdgtrn_cdgrpta.csv'\n",
        "\n",
        "datos_etiqueta = pd.read_csv(ruta + archivo_etiquetas).drop_duplicates()\n",
        "datos = pd.read_csv(ruta + archivo_datos).drop_duplicates()\n",
        "datos_maestra = pd.read_csv(ruta + archivo_maestra, sep = ';').drop_duplicates()"
      ],
      "execution_count": 0,
      "outputs": []
    },
    {
      "cell_type": "markdown",
      "metadata": {
        "id": "NO3vNTwL-rot",
        "colab_type": "text"
      },
      "source": [
        "# Diferenciar los clientes"
      ]
    },
    {
      "cell_type": "code",
      "metadata": {
        "id": "8Nvy98K3-rou",
        "colab_type": "code",
        "colab": {}
      },
      "source": [
        "#cantidad_clientes = 2000\n",
        "\n",
        "trx_prueba = datos.merge(datos_etiqueta, how = 'inner', on = ['id'])\n",
        "del datos"
      ],
      "execution_count": 0,
      "outputs": []
    },
    {
      "cell_type": "markdown",
      "metadata": {
        "id": "OY05-ITJ-rox",
        "colab_type": "text"
      },
      "source": [
        "# Exploración de variables más directas"
      ]
    },
    {
      "cell_type": "code",
      "metadata": {
        "id": "0Jk4XfRD-roy",
        "colab_type": "code",
        "outputId": "84e368e9-a934-4c45-b497-54f19a40b685",
        "colab": {}
      },
      "source": [
        "# Cantidad de canales usados por cliente\n",
        "\n",
        "canales = trx_prueba[[\"id\", \"var_rpta\", \"canal\"]].drop_duplicates().groupby([\"var_rpta\", \"canal\"]).size().to_frame(name = 'conteo').reset_index()\n",
        "canales.head()"
      ],
      "execution_count": 0,
      "outputs": [
        {
          "output_type": "execute_result",
          "data": {
            "text/html": [
              "<div>\n",
              "<style scoped>\n",
              "    .dataframe tbody tr th:only-of-type {\n",
              "        vertical-align: middle;\n",
              "    }\n",
              "\n",
              "    .dataframe tbody tr th {\n",
              "        vertical-align: top;\n",
              "    }\n",
              "\n",
              "    .dataframe thead th {\n",
              "        text-align: right;\n",
              "    }\n",
              "</style>\n",
              "<table border=\"1\" class=\"dataframe\">\n",
              "  <thead>\n",
              "    <tr style=\"text-align: right;\">\n",
              "      <th></th>\n",
              "      <th>var_rpta</th>\n",
              "      <th>canal</th>\n",
              "      <th>conteo</th>\n",
              "    </tr>\n",
              "  </thead>\n",
              "  <tbody>\n",
              "    <tr>\n",
              "      <th>0</th>\n",
              "      <td>0</td>\n",
              "      <td>CANAL_1</td>\n",
              "      <td>5821</td>\n",
              "    </tr>\n",
              "    <tr>\n",
              "      <th>1</th>\n",
              "      <td>0</td>\n",
              "      <td>CANAL_2</td>\n",
              "      <td>47399</td>\n",
              "    </tr>\n",
              "    <tr>\n",
              "      <th>2</th>\n",
              "      <td>0</td>\n",
              "      <td>CANAL_3</td>\n",
              "      <td>4938</td>\n",
              "    </tr>\n",
              "    <tr>\n",
              "      <th>3</th>\n",
              "      <td>0</td>\n",
              "      <td>CANAL_4</td>\n",
              "      <td>127</td>\n",
              "    </tr>\n",
              "    <tr>\n",
              "      <th>4</th>\n",
              "      <td>0</td>\n",
              "      <td>CANAL_5</td>\n",
              "      <td>45431</td>\n",
              "    </tr>\n",
              "  </tbody>\n",
              "</table>\n",
              "</div>"
            ],
            "text/plain": [
              "   var_rpta    canal  conteo\n",
              "0         0  CANAL_1    5821\n",
              "1         0  CANAL_2   47399\n",
              "2         0  CANAL_3    4938\n",
              "3         0  CANAL_4     127\n",
              "4         0  CANAL_5   45431"
            ]
          },
          "metadata": {
            "tags": []
          },
          "execution_count": 7
        }
      ]
    },
    {
      "cell_type": "code",
      "metadata": {
        "id": "wCgH-VAn-ro3",
        "colab_type": "code",
        "outputId": "abf465f7-998e-46f0-df98-98bcd30c069e",
        "colab": {}
      },
      "source": [
        "plt.style.use([\"seaborn\"])\n",
        "\n",
        "fig, ax = plt.subplots(2)\n",
        "fig.suptitle(\"Distribución de canales por etiqueta\", fontsize = 15)\n",
        "\n",
        "ax[0].bar(canales[canales.var_rpta == 0].canal, canales[canales.var_rpta == 0].conteo)\n",
        "ax[0].set_title('Etiqueta 0')\n",
        "\n",
        "ax[1].bar(canales[canales.var_rpta == 1].canal, canales[canales.var_rpta == 1].conteo)\n",
        "ax[1].set_title('Etiqueta 1')\n",
        "\n",
        "fig.set_figheight(8)\n",
        "fig.set_figwidth(10)"
      ],
      "execution_count": 0,
      "outputs": [
        {
          "output_type": "display_data",
          "data": {
            "image/png": "[encoded data removed]",
            "text/plain": [
              "<Figure size 720x576 with 2 Axes>"
            ]
          },
          "metadata": {
            "tags": []
          }
        }
      ]
    },
    {
      "cell_type": "code",
      "metadata": {
        "id": "YaujsHqJ-ro7",
        "colab_type": "code",
        "outputId": "248babe5-1dbe-41f8-c721-cb6553564540",
        "colab": {}
      },
      "source": [
        "# Identificador de las transacciones\n",
        "\n",
        "tipo_trx = trx_prueba[[\"id\", \"var_rpta\", \"cdgtrn\"]].drop_duplicates()\n",
        "tipo_trx = tipo_trx.groupby([\"var_rpta\", \"cdgtrn\"]).size().to_frame(name = 'conteo').reset_index()\n",
        "tipo_trx.cdgtrn = tipo_trx.cdgtrn.astype(str)\n",
        "tipo_trx.head()"
      ],
      "execution_count": 0,
      "outputs": [
        {
          "output_type": "execute_result",
          "data": {
            "text/html": [
              "<div>\n",
              "<style scoped>\n",
              "    .dataframe tbody tr th:only-of-type {\n",
              "        vertical-align: middle;\n",
              "    }\n",
              "\n",
              "    .dataframe tbody tr th {\n",
              "        vertical-align: top;\n",
              "    }\n",
              "\n",
              "    .dataframe thead th {\n",
              "        text-align: right;\n",
              "    }\n",
              "</style>\n",
              "<table border=\"1\" class=\"dataframe\">\n",
              "  <thead>\n",
              "    <tr style=\"text-align: right;\">\n",
              "      <th></th>\n",
              "      <th>var_rpta</th>\n",
              "      <th>cdgtrn</th>\n",
              "      <th>conteo</th>\n",
              "    </tr>\n",
              "  </thead>\n",
              "  <tbody>\n",
              "    <tr>\n",
              "      <th>0</th>\n",
              "      <td>0</td>\n",
              "      <td>0</td>\n",
              "      <td>39408</td>\n",
              "    </tr>\n",
              "    <tr>\n",
              "      <th>1</th>\n",
              "      <td>0</td>\n",
              "      <td>1</td>\n",
              "      <td>122</td>\n",
              "    </tr>\n",
              "    <tr>\n",
              "      <th>2</th>\n",
              "      <td>0</td>\n",
              "      <td>2</td>\n",
              "      <td>5200</td>\n",
              "    </tr>\n",
              "    <tr>\n",
              "      <th>3</th>\n",
              "      <td>0</td>\n",
              "      <td>4</td>\n",
              "      <td>17</td>\n",
              "    </tr>\n",
              "    <tr>\n",
              "      <th>4</th>\n",
              "      <td>0</td>\n",
              "      <td>5</td>\n",
              "      <td>342</td>\n",
              "    </tr>\n",
              "  </tbody>\n",
              "</table>\n",
              "</div>"
            ],
            "text/plain": [
              "   var_rpta cdgtrn  conteo\n",
              "0         0      0   39408\n",
              "1         0      1     122\n",
              "2         0      2    5200\n",
              "3         0      4      17\n",
              "4         0      5     342"
            ]
          },
          "metadata": {
            "tags": []
          },
          "execution_count": 9
        }
      ]
    },
    {
      "cell_type": "code",
      "metadata": {
        "id": "J_t4udqJ-ro_",
        "colab_type": "code",
        "outputId": "915bc2c8-c0e5-4ca0-d07e-9c5b1af68b54",
        "colab": {}
      },
      "source": [
        "fig, ax = plt.subplots(2)\n",
        "fig.suptitle(\"Distribución de canales por tipo transacción\", fontsize = 15)\n",
        "\n",
        "ax[0].bar(tipo_trx[tipo_trx.var_rpta == 0].cdgtrn, tipo_trx[tipo_trx.var_rpta == 0].conteo)\n",
        "ax[0].set_title('Etiqueta 0')\n",
        "ax[0].set_xticks([])\n",
        "\n",
        "ax[1].bar(tipo_trx[tipo_trx.var_rpta == 1].cdgtrn, tipo_trx[tipo_trx.var_rpta == 1].conteo)\n",
        "ax[1].set_title('Etiqueta 1')\n",
        "ax[1].set_xticks([])\n",
        "\n",
        "fig.set_figheight(8)\n",
        "fig.set_figwidth(10)"
      ],
      "execution_count": 0,
      "outputs": [
        {
          "output_type": "display_data",
          "data": {
            "image/png": "[encoded data removed]",
            "text/plain": [
              "<Figure size 720x576 with 2 Axes>"
            ]
          },
          "metadata": {
            "tags": []
          }
        }
      ]
    },
    {
      "cell_type": "code",
      "metadata": {
        "id": "MmiX6rC--rpG",
        "colab_type": "code",
        "outputId": "21f19a9a-53ec-4f85-fa06-82accbd3b9f1",
        "colab": {}
      },
      "source": [
        "# Observar si el valor de las transacciones tiene una relación con la etiqueta\n",
        "\n",
        "from scipy import stats\n",
        "stats.ttest_ind(trx_prueba[trx_prueba.var_rpta==0].vlrtran.values, \n",
        "                trx_prueba[trx_prueba.var_rpta==1].vlrtran.values,\n",
        "                equal_var = False)"
      ],
      "execution_count": 0,
      "outputs": [
        {
          "output_type": "execute_result",
          "data": {
            "text/plain": [
              "Ttest_indResult(statistic=3.568261847256698, pvalue=0.0003593624289234485)"
            ]
          },
          "metadata": {
            "tags": []
          },
          "execution_count": 11
        }
      ]
    },
    {
      "cell_type": "markdown",
      "metadata": {
        "id": "liLuTWR3-rpK",
        "colab_type": "text"
      },
      "source": [
        "Estadísticamente no podemos entonces decir que haya una diferencia significativa entre las medias y por lo tanto no sabemos si hay una relación importante entre la etiqueta y el valor de la transacción."
      ]
    },
    {
      "cell_type": "code",
      "metadata": {
        "id": "qaabzXUY-rpL",
        "colab_type": "code",
        "outputId": "64385946-db3a-4cb8-8008-6bdcbaf749c5",
        "colab": {}
      },
      "source": [
        "# Investigar acerca de la cantidad de sesiones por clientes\n",
        "\n",
        "sesiones = trx_prueba[[\"id\", \"var_rpta\", \"sesion\"]].drop_duplicates()\n",
        "sesiones = sesiones.groupby([\"id\", \"var_rpta\"]).sesion.size().to_frame(name = 'conteo').reset_index()\n",
        "sesiones.head()"
      ],
      "execution_count": 0,
      "outputs": [
        {
          "output_type": "execute_result",
          "data": {
            "text/html": [
              "<div>\n",
              "<style scoped>\n",
              "    .dataframe tbody tr th:only-of-type {\n",
              "        vertical-align: middle;\n",
              "    }\n",
              "\n",
              "    .dataframe tbody tr th {\n",
              "        vertical-align: top;\n",
              "    }\n",
              "\n",
              "    .dataframe thead th {\n",
              "        text-align: right;\n",
              "    }\n",
              "</style>\n",
              "<table border=\"1\" class=\"dataframe\">\n",
              "  <thead>\n",
              "    <tr style=\"text-align: right;\">\n",
              "      <th></th>\n",
              "      <th>id</th>\n",
              "      <th>var_rpta</th>\n",
              "      <th>conteo</th>\n",
              "    </tr>\n",
              "  </thead>\n",
              "  <tbody>\n",
              "    <tr>\n",
              "      <th>0</th>\n",
              "      <td>1</td>\n",
              "      <td>0</td>\n",
              "      <td>69</td>\n",
              "    </tr>\n",
              "    <tr>\n",
              "      <th>1</th>\n",
              "      <td>2</td>\n",
              "      <td>0</td>\n",
              "      <td>2</td>\n",
              "    </tr>\n",
              "    <tr>\n",
              "      <th>2</th>\n",
              "      <td>3</td>\n",
              "      <td>0</td>\n",
              "      <td>3</td>\n",
              "    </tr>\n",
              "    <tr>\n",
              "      <th>3</th>\n",
              "      <td>5</td>\n",
              "      <td>0</td>\n",
              "      <td>70</td>\n",
              "    </tr>\n",
              "    <tr>\n",
              "      <th>4</th>\n",
              "      <td>6</td>\n",
              "      <td>1</td>\n",
              "      <td>2</td>\n",
              "    </tr>\n",
              "  </tbody>\n",
              "</table>\n",
              "</div>"
            ],
            "text/plain": [
              "   id  var_rpta  conteo\n",
              "0   1         0      69\n",
              "1   2         0       2\n",
              "2   3         0       3\n",
              "3   5         0      70\n",
              "4   6         1       2"
            ]
          },
          "metadata": {
            "tags": []
          },
          "execution_count": 12
        }
      ]
    },
    {
      "cell_type": "code",
      "metadata": {
        "id": "1WYsL5-K-rpO",
        "colab_type": "code",
        "outputId": "601a9f74-a89b-43cb-8fd9-0cedfcd1c0e6",
        "colab": {}
      },
      "source": [
        "sns.distplot(sesiones[sesiones.var_rpta == 0].conteo, \n",
        "             hist = False, \n",
        "             kde_kws={'clip': (0, 500), 'shade': True}, \n",
        "             label = '0')\n",
        "sns.distplot(sesiones[sesiones.var_rpta == 1].conteo, \n",
        "             hist = False, \n",
        "             kde_kws={'clip': (0, 500), 'shade': True}, \n",
        "             label = '1')\n",
        "plt.title(\"Densidades de la cantidad de sesiones por etiqueta\", fontsize = 15)\n",
        "plt.legend()"
      ],
      "execution_count": 0,
      "outputs": [
        {
          "output_type": "execute_result",
          "data": {
            "text/plain": [
              "<matplotlib.legend.Legend at 0x1d8004226d8>"
            ]
          },
          "metadata": {
            "tags": []
          },
          "execution_count": 13
        },
        {
          "output_type": "display_data",
          "data": {
            "image/png": "[encoded data removed]",
            "text/plain": [
              "<Figure size 576x396 with 1 Axes>"
            ]
          },
          "metadata": {
            "tags": []
          }
        }
      ]
    },
    {
      "cell_type": "code",
      "metadata": {
        "id": "I3NL8i-k-rpR",
        "colab_type": "code",
        "outputId": "ce594a80-0487-4e5c-b692-a5a7fa622665",
        "colab": {}
      },
      "source": [
        "stats.ttest_ind(sesiones[sesiones.var_rpta == 0].conteo, \n",
        "                sesiones[sesiones.var_rpta == 1].conteo,\n",
        "                equal_var = False)"
      ],
      "execution_count": 0,
      "outputs": [
        {
          "output_type": "execute_result",
          "data": {
            "text/plain": [
              "Ttest_indResult(statistic=5.706389093462077, pvalue=1.2157023369847353e-08)"
            ]
          },
          "metadata": {
            "tags": []
          },
          "execution_count": 14
        }
      ]
    },
    {
      "cell_type": "code",
      "metadata": {
        "id": "JxzhvyPR-rpT",
        "colab_type": "code",
        "outputId": "fb9dfbfd-84df-451f-bd39-584d05e30af6",
        "colab": {}
      },
      "source": [
        "datos_maestra[[\"cdgrpta\", \"descrip_cod_rpta\", \"clasif_cod_rpta\"]].drop_duplicates().head()#.groupby(\"descrip_cod_rpta\").size().sort_values(ascending = False)"
      ],
      "execution_count": 0,
      "outputs": [
        {
          "output_type": "execute_result",
          "data": {
            "text/html": [
              "<div>\n",
              "<style scoped>\n",
              "    .dataframe tbody tr th:only-of-type {\n",
              "        vertical-align: middle;\n",
              "    }\n",
              "\n",
              "    .dataframe tbody tr th {\n",
              "        vertical-align: top;\n",
              "    }\n",
              "\n",
              "    .dataframe thead th {\n",
              "        text-align: right;\n",
              "    }\n",
              "</style>\n",
              "<table border=\"1\" class=\"dataframe\">\n",
              "  <thead>\n",
              "    <tr style=\"text-align: right;\">\n",
              "      <th></th>\n",
              "      <th>cdgrpta</th>\n",
              "      <th>descrip_cod_rpta</th>\n",
              "      <th>clasif_cod_rpta</th>\n",
              "    </tr>\n",
              "  </thead>\n",
              "  <tbody>\n",
              "    <tr>\n",
              "      <th>0</th>\n",
              "      <td>None</td>\n",
              "      <td>None</td>\n",
              "      <td>None</td>\n",
              "    </tr>\n",
              "    <tr>\n",
              "      <th>1</th>\n",
              "      <td>0</td>\n",
              "      <td>Transaccion Exitosa</td>\n",
              "      <td>Exitosa</td>\n",
              "    </tr>\n",
              "    <tr>\n",
              "      <th>2</th>\n",
              "      <td>6</td>\n",
              "      <td>No Coinciden Datos</td>\n",
              "      <td>Tecnicamente Exitosa</td>\n",
              "    </tr>\n",
              "    <tr>\n",
              "      <th>3</th>\n",
              "      <td>299</td>\n",
              "      <td>#N/A Pendiente De Respuesta</td>\n",
              "      <td>No Exitosa</td>\n",
              "    </tr>\n",
              "    <tr>\n",
              "      <th>4</th>\n",
              "      <td>21</td>\n",
              "      <td>Bloqueado voluntariamente</td>\n",
              "      <td>Tecnicamente Exitosa</td>\n",
              "    </tr>\n",
              "  </tbody>\n",
              "</table>\n",
              "</div>"
            ],
            "text/plain": [
              "  cdgrpta             descrip_cod_rpta       clasif_cod_rpta\n",
              "0    None                         None                  None\n",
              "1       0          Transaccion Exitosa               Exitosa\n",
              "2       6           No Coinciden Datos  Tecnicamente Exitosa\n",
              "3     299  #N/A Pendiente De Respuesta            No Exitosa\n",
              "4      21    Bloqueado voluntariamente  Tecnicamente Exitosa"
            ]
          },
          "metadata": {
            "tags": []
          },
          "execution_count": 16
        }
      ]
    },
    {
      "cell_type": "code",
      "metadata": {
        "id": "k-0MOSDA-rpW",
        "colab_type": "code",
        "outputId": "aad4f3b1-0ba7-4d5b-9cd1-a43a6987ab1d",
        "colab": {}
      },
      "source": [
        "descripcion_maestra = datos_maestra[[\"cdgtrn\", \"clasif_trxn\", \"grupo_descrp_trxn\", \"descrip_trxn\", \"descripcion_grupo\"]].drop_duplicates()#.groupby(\"descrip_cod_rpta\").size().sort_values(ascending = False)\n",
        "descripcion_maestra.head()"
      ],
      "execution_count": 0,
      "outputs": [
        {
          "output_type": "execute_result",
          "data": {
            "text/html": [
              "<div>\n",
              "<style scoped>\n",
              "    .dataframe tbody tr th:only-of-type {\n",
              "        vertical-align: middle;\n",
              "    }\n",
              "\n",
              "    .dataframe tbody tr th {\n",
              "        vertical-align: top;\n",
              "    }\n",
              "\n",
              "    .dataframe thead th {\n",
              "        text-align: right;\n",
              "    }\n",
              "</style>\n",
              "<table border=\"1\" class=\"dataframe\">\n",
              "  <thead>\n",
              "    <tr style=\"text-align: right;\">\n",
              "      <th></th>\n",
              "      <th>cdgtrn</th>\n",
              "      <th>clasif_trxn</th>\n",
              "      <th>grupo_descrp_trxn</th>\n",
              "      <th>descrip_trxn</th>\n",
              "      <th>descripcion_grupo</th>\n",
              "    </tr>\n",
              "  </thead>\n",
              "  <tbody>\n",
              "    <tr>\n",
              "      <th>0</th>\n",
              "      <td>None</td>\n",
              "      <td>None</td>\n",
              "      <td>None</td>\n",
              "      <td>None</td>\n",
              "      <td>None</td>\n",
              "    </tr>\n",
              "    <tr>\n",
              "      <th>1</th>\n",
              "      <td>349</td>\n",
              "      <td>No Financiera</td>\n",
              "      <td>Consulta Detalle Prestamos</td>\n",
              "      <td>Consulta Detalle Credito Hipotecario</td>\n",
              "      <td>Consultas / Movimientos / Extractos</td>\n",
              "    </tr>\n",
              "    <tr>\n",
              "      <th>2</th>\n",
              "      <td>227</td>\n",
              "      <td>No Financiera</td>\n",
              "      <td>Validacion Del Cliente Para Segunda Clave</td>\n",
              "      <td>Validacion Del Cliente Para Segunda Clave</td>\n",
              "      <td>Claves</td>\n",
              "    </tr>\n",
              "    <tr>\n",
              "      <th>3</th>\n",
              "      <td>260</td>\n",
              "      <td>No Financiera</td>\n",
              "      <td>Consulta De Saldo Tarjetas</td>\n",
              "      <td>Consulta saldos tarjetas propias Bancolombia</td>\n",
              "      <td>Consultas / Movimientos / Extractos</td>\n",
              "    </tr>\n",
              "    <tr>\n",
              "      <th>4</th>\n",
              "      <td>5500</td>\n",
              "      <td>No Financiera</td>\n",
              "      <td>Solicitud OTP ODA</td>\n",
              "      <td>Solicitud OTP ODA</td>\n",
              "      <td>Claves</td>\n",
              "    </tr>\n",
              "  </tbody>\n",
              "</table>\n",
              "</div>"
            ],
            "text/plain": [
              "  cdgtrn    clasif_trxn                          grupo_descrp_trxn  \\\n",
              "0   None           None                                       None   \n",
              "1    349  No Financiera                 Consulta Detalle Prestamos   \n",
              "2    227  No Financiera  Validacion Del Cliente Para Segunda Clave   \n",
              "3    260  No Financiera                 Consulta De Saldo Tarjetas   \n",
              "4   5500  No Financiera                          Solicitud OTP ODA   \n",
              "\n",
              "                                   descrip_trxn  \\\n",
              "0                                          None   \n",
              "1          Consulta Detalle Credito Hipotecario   \n",
              "2     Validacion Del Cliente Para Segunda Clave   \n",
              "3  Consulta saldos tarjetas propias Bancolombia   \n",
              "4                             Solicitud OTP ODA   \n",
              "\n",
              "                     descripcion_grupo  \n",
              "0                                 None  \n",
              "1  Consultas / Movimientos / Extractos  \n",
              "2                               Claves  \n",
              "3  Consultas / Movimientos / Extractos  \n",
              "4                               Claves  "
            ]
          },
          "metadata": {
            "tags": []
          },
          "execution_count": 17
        }
      ]
    },
    {
      "cell_type": "code",
      "metadata": {
        "id": "rhDWhliT-rpY",
        "colab_type": "code",
        "outputId": "50c63033-83f1-473f-ed54-d76f908f59e8",
        "colab": {}
      },
      "source": [
        "descripcion_maestra.groupby(\"clasif_trxn\").size()"
      ],
      "execution_count": 0,
      "outputs": [
        {
          "output_type": "execute_result",
          "data": {
            "text/plain": [
              "clasif_trxn\n",
              "Financiera        53\n",
              "No Considerar      1\n",
              "No Financiera    263\n",
              "No considerar     50\n",
              "None               1\n",
              "dtype: int64"
            ]
          },
          "metadata": {
            "tags": []
          },
          "execution_count": 18
        }
      ]
    },
    {
      "cell_type": "code",
      "metadata": {
        "id": "0LnZBENd-rpa",
        "colab_type": "code",
        "outputId": "3e46387e-c8f5-4a84-98c6-dd84a4231655",
        "colab": {}
      },
      "source": [
        "descripcion_maestra.groupby(\"descripcion_grupo\").size().sort_values(ascending = False).head()"
      ],
      "execution_count": 0,
      "outputs": [
        {
          "output_type": "execute_result",
          "data": {
            "text/plain": [
              "descripcion_grupo\n",
              "Consultas / Movimientos / Extractos    101\n",
              "Claves                                  72\n",
              "No considerar                           23\n",
              "Actualizaciones                         21\n",
              "Transferencias de fondos                18\n",
              "dtype: int64"
            ]
          },
          "metadata": {
            "tags": []
          },
          "execution_count": 19
        }
      ]
    },
    {
      "cell_type": "code",
      "metadata": {
        "id": "dF_6xE_e-rpc",
        "colab_type": "code",
        "colab": {}
      },
      "source": [
        "clientes_valor_trx = trx_prueba[trx_prueba.vlrtran != 0].drop_duplicates()"
      ],
      "execution_count": 0,
      "outputs": []
    },
    {
      "cell_type": "code",
      "metadata": {
        "id": "MZA8B2mS-rpe",
        "colab_type": "code",
        "colab": {}
      },
      "source": [
        "clientes_0_trx = clientes_valor_trx[clientes_valor_trx.var_rpta == 0]\n",
        "clientes_1_trx = clientes_valor_trx[clientes_valor_trx.var_rpta == 1]"
      ],
      "execution_count": 0,
      "outputs": []
    },
    {
      "cell_type": "code",
      "metadata": {
        "id": "nbHwZw8g-rpi",
        "colab_type": "code",
        "outputId": "f896d3a0-ea36-45a4-f1f8-d57a6400efab",
        "colab": {}
      },
      "source": [
        "sns.distplot(clientes_0_trx.vlrtran, \n",
        "             hist = False, \n",
        "             kde_kws={'clip': (0, 10**6), 'shade': True}, \n",
        "             label = '0')\n",
        "\n",
        "sns.distplot(clientes_1_trx.vlrtran, \n",
        "             hist = False, \n",
        "             kde_kws={'clip': (0, 10**6), 'shade': True}, \n",
        "             label = '1')\n",
        "\n",
        "plt.title(\"Densidades de la cantidad de sesiones por etiqueta\", fontsize = 15)\n",
        "plt.legend()"
      ],
      "execution_count": 0,
      "outputs": [
        {
          "output_type": "execute_result",
          "data": {
            "text/plain": [
              "<matplotlib.legend.Legend at 0x1d800b661d0>"
            ]
          },
          "metadata": {
            "tags": []
          },
          "execution_count": 22
        },
        {
          "output_type": "display_data",
          "data": {
            "image/png": "[encoded data removed]",
            "text/plain": [
              "<Figure size 576x396 with 1 Axes>"
            ]
          },
          "metadata": {
            "tags": []
          }
        }
      ]
    },
    {
      "cell_type": "code",
      "metadata": {
        "id": "B-ghFOne-rpk",
        "colab_type": "code",
        "outputId": "d3514f04-241b-4a21-f8b9-8c935797775e",
        "colab": {}
      },
      "source": [
        "stats.ttest_ind(clientes_0_trx.vlrtran, \n",
        "                clientes_1_trx.vlrtran,\n",
        "                equal_var = False)"
      ],
      "execution_count": 0,
      "outputs": [
        {
          "output_type": "execute_result",
          "data": {
            "text/plain": [
              "Ttest_indResult(statistic=3.961076185380011, pvalue=7.465209259467604e-05)"
            ]
          },
          "metadata": {
            "tags": []
          },
          "execution_count": 23
        }
      ]
    },
    {
      "cell_type": "code",
      "metadata": {
        "id": "77bApHc4-rpq",
        "colab_type": "code",
        "outputId": "be62e688-b24d-4e93-eea7-7985b412590e",
        "colab": {}
      },
      "source": [
        "trx_prueba[[\"id\", \"canal\", \"disposit\", \"sesion\"]].groupby([\"id\", \"sesion\"]).canal.size().head()"
      ],
      "execution_count": 0,
      "outputs": [
        {
          "output_type": "execute_result",
          "data": {
            "text/plain": [
              "id  sesion\n",
              "1   1         2\n",
              "    2         4\n",
              "    3         2\n",
              "    4         4\n",
              "    5         1\n",
              "Name: canal, dtype: int64"
            ]
          },
          "metadata": {
            "tags": []
          },
          "execution_count": 24
        }
      ]
    },
    {
      "cell_type": "markdown",
      "metadata": {
        "id": "B1WBRnP1-rpv",
        "colab_type": "text"
      },
      "source": [
        "# Sesiones por cliente bien contadas"
      ]
    },
    {
      "cell_type": "code",
      "metadata": {
        "id": "OZXPlI9p-rpx",
        "colab_type": "code",
        "colab": {}
      },
      "source": [
        "trx_prueba[\"medio\"] = trx_prueba[\"canal\"] + trx_prueba[\"disposit\"]"
      ],
      "execution_count": 0,
      "outputs": []
    },
    {
      "cell_type": "code",
      "metadata": {
        "id": "w8DhJjhD-rpz",
        "colab_type": "code",
        "outputId": "a33cabeb-fc37-4441-e05b-8306af045d92",
        "colab": {}
      },
      "source": [
        "# Para predicción\n",
        "\n",
        "#df_cliente_sesion = trx_prueba[[\"id\", \"medio\", \"sesion\"]].groupby([\"id\", \"medio\"]).sesion.max().to_frame(name = 'conteo').reset_index()\n",
        "#df_cliente_sesion.head()"
      ],
      "execution_count": 0,
      "outputs": [
        {
          "output_type": "execute_result",
          "data": {
            "text/html": [
              "<div>\n",
              "<style scoped>\n",
              "    .dataframe tbody tr th:only-of-type {\n",
              "        vertical-align: middle;\n",
              "    }\n",
              "\n",
              "    .dataframe tbody tr th {\n",
              "        vertical-align: top;\n",
              "    }\n",
              "\n",
              "    .dataframe thead th {\n",
              "        text-align: right;\n",
              "    }\n",
              "</style>\n",
              "<table border=\"1\" class=\"dataframe\">\n",
              "  <thead>\n",
              "    <tr style=\"text-align: right;\">\n",
              "      <th></th>\n",
              "      <th>id</th>\n",
              "      <th>medio</th>\n",
              "      <th>conteo</th>\n",
              "    </tr>\n",
              "  </thead>\n",
              "  <tbody>\n",
              "    <tr>\n",
              "      <th>0</th>\n",
              "      <td>1</td>\n",
              "      <td>CANAL_5DISPOSIT_4</td>\n",
              "      <td>69</td>\n",
              "    </tr>\n",
              "    <tr>\n",
              "      <th>1</th>\n",
              "      <td>2</td>\n",
              "      <td>CANAL_5DISPOSIT_4</td>\n",
              "      <td>2</td>\n",
              "    </tr>\n",
              "    <tr>\n",
              "      <th>2</th>\n",
              "      <td>3</td>\n",
              "      <td>CANAL_2DISPOSIT_10</td>\n",
              "      <td>2</td>\n",
              "    </tr>\n",
              "    <tr>\n",
              "      <th>3</th>\n",
              "      <td>3</td>\n",
              "      <td>CANAL_2DISPOSIT_11</td>\n",
              "      <td>2</td>\n",
              "    </tr>\n",
              "    <tr>\n",
              "      <th>4</th>\n",
              "      <td>3</td>\n",
              "      <td>CANAL_2DISPOSIT_4</td>\n",
              "      <td>0</td>\n",
              "    </tr>\n",
              "  </tbody>\n",
              "</table>\n",
              "</div>"
            ],
            "text/plain": [
              "   id               medio  conteo\n",
              "0   1   CANAL_5DISPOSIT_4      69\n",
              "1   2   CANAL_5DISPOSIT_4       2\n",
              "2   3  CANAL_2DISPOSIT_10       2\n",
              "3   3  CANAL_2DISPOSIT_11       2\n",
              "4   3   CANAL_2DISPOSIT_4       0"
            ]
          },
          "metadata": {
            "tags": []
          },
          "execution_count": 6
        }
      ]
    },
    {
      "cell_type": "code",
      "metadata": {
        "id": "GoTFSWdU-rp1",
        "colab_type": "code",
        "outputId": "27b4123e-89ba-4085-f707-f1c873895f3b",
        "colab": {}
      },
      "source": [
        "# Para predicción\n",
        "\n",
        "#sesiones_final = df_cliente_sesion.groupby([\"id\"]).conteo.sum().to_frame(name = 'nro_sesiones').reset_index()\n",
        "#sesiones_final.head()"
      ],
      "execution_count": 0,
      "outputs": [
        {
          "output_type": "execute_result",
          "data": {
            "text/html": [
              "<div>\n",
              "<style scoped>\n",
              "    .dataframe tbody tr th:only-of-type {\n",
              "        vertical-align: middle;\n",
              "    }\n",
              "\n",
              "    .dataframe tbody tr th {\n",
              "        vertical-align: top;\n",
              "    }\n",
              "\n",
              "    .dataframe thead th {\n",
              "        text-align: right;\n",
              "    }\n",
              "</style>\n",
              "<table border=\"1\" class=\"dataframe\">\n",
              "  <thead>\n",
              "    <tr style=\"text-align: right;\">\n",
              "      <th></th>\n",
              "      <th>id</th>\n",
              "      <th>nro_sesiones</th>\n",
              "    </tr>\n",
              "  </thead>\n",
              "  <tbody>\n",
              "    <tr>\n",
              "      <th>0</th>\n",
              "      <td>76537</td>\n",
              "      <td>32</td>\n",
              "    </tr>\n",
              "    <tr>\n",
              "      <th>1</th>\n",
              "      <td>76538</td>\n",
              "      <td>423</td>\n",
              "    </tr>\n",
              "    <tr>\n",
              "      <th>2</th>\n",
              "      <td>76539</td>\n",
              "      <td>241</td>\n",
              "    </tr>\n",
              "    <tr>\n",
              "      <th>3</th>\n",
              "      <td>76540</td>\n",
              "      <td>20</td>\n",
              "    </tr>\n",
              "    <tr>\n",
              "      <th>4</th>\n",
              "      <td>76541</td>\n",
              "      <td>533</td>\n",
              "    </tr>\n",
              "  </tbody>\n",
              "</table>\n",
              "</div>"
            ],
            "text/plain": [
              "      id  nro_sesiones\n",
              "0  76537            32\n",
              "1  76538           423\n",
              "2  76539           241\n",
              "3  76540            20\n",
              "4  76541           533"
            ]
          },
          "metadata": {
            "tags": []
          },
          "execution_count": 184
        }
      ]
    },
    {
      "cell_type": "code",
      "metadata": {
        "scrolled": true,
        "id": "O7H2vhft-rp4",
        "colab_type": "code",
        "outputId": "a44852d9-732f-4af7-9c44-5bd3a86c0e5a",
        "colab": {}
      },
      "source": [
        "df_cliente_sesion = trx_prueba[[\"id\", \"medio\", \"sesion\", \"var_rpta\"]].groupby([\"id\", \"var_rpta\", \"medio\"]).sesion.max().to_frame(name = 'conteo').reset_index()\n",
        "df_cliente_sesion.head()"
      ],
      "execution_count": 0,
      "outputs": [
        {
          "output_type": "execute_result",
          "data": {
            "text/html": [
              "<div>\n",
              "<style scoped>\n",
              "    .dataframe tbody tr th:only-of-type {\n",
              "        vertical-align: middle;\n",
              "    }\n",
              "\n",
              "    .dataframe tbody tr th {\n",
              "        vertical-align: top;\n",
              "    }\n",
              "\n",
              "    .dataframe thead th {\n",
              "        text-align: right;\n",
              "    }\n",
              "</style>\n",
              "<table border=\"1\" class=\"dataframe\">\n",
              "  <thead>\n",
              "    <tr style=\"text-align: right;\">\n",
              "      <th></th>\n",
              "      <th>id</th>\n",
              "      <th>var_rpta</th>\n",
              "      <th>medio</th>\n",
              "      <th>conteo</th>\n",
              "    </tr>\n",
              "  </thead>\n",
              "  <tbody>\n",
              "    <tr>\n",
              "      <th>0</th>\n",
              "      <td>1</td>\n",
              "      <td>0</td>\n",
              "      <td>CANAL_5DISPOSIT_4</td>\n",
              "      <td>69</td>\n",
              "    </tr>\n",
              "    <tr>\n",
              "      <th>1</th>\n",
              "      <td>2</td>\n",
              "      <td>0</td>\n",
              "      <td>CANAL_5DISPOSIT_4</td>\n",
              "      <td>2</td>\n",
              "    </tr>\n",
              "    <tr>\n",
              "      <th>2</th>\n",
              "      <td>3</td>\n",
              "      <td>0</td>\n",
              "      <td>CANAL_2DISPOSIT_10</td>\n",
              "      <td>2</td>\n",
              "    </tr>\n",
              "    <tr>\n",
              "      <th>3</th>\n",
              "      <td>3</td>\n",
              "      <td>0</td>\n",
              "      <td>CANAL_2DISPOSIT_11</td>\n",
              "      <td>2</td>\n",
              "    </tr>\n",
              "    <tr>\n",
              "      <th>4</th>\n",
              "      <td>3</td>\n",
              "      <td>0</td>\n",
              "      <td>CANAL_2DISPOSIT_4</td>\n",
              "      <td>0</td>\n",
              "    </tr>\n",
              "  </tbody>\n",
              "</table>\n",
              "</div>"
            ],
            "text/plain": [
              "   id  var_rpta               medio  conteo\n",
              "0   1         0   CANAL_5DISPOSIT_4      69\n",
              "1   2         0   CANAL_5DISPOSIT_4       2\n",
              "2   3         0  CANAL_2DISPOSIT_10       2\n",
              "3   3         0  CANAL_2DISPOSIT_11       2\n",
              "4   3         0   CANAL_2DISPOSIT_4       0"
            ]
          },
          "metadata": {
            "tags": []
          },
          "execution_count": 7
        }
      ]
    },
    {
      "cell_type": "code",
      "metadata": {
        "id": "xNOSNz1v-rp6",
        "colab_type": "code",
        "outputId": "fb33c20e-5388-4e88-a6f9-55d1e9e5b075",
        "colab": {}
      },
      "source": [
        "sesiones_final = df_cliente_sesion.groupby([\"id\", \"var_rpta\"]).conteo.sum().to_frame(name = 'nro_sesiones').reset_index()\n",
        "sesiones_final.head()"
      ],
      "execution_count": 0,
      "outputs": [
        {
          "output_type": "execute_result",
          "data": {
            "text/html": [
              "<div>\n",
              "<style scoped>\n",
              "    .dataframe tbody tr th:only-of-type {\n",
              "        vertical-align: middle;\n",
              "    }\n",
              "\n",
              "    .dataframe tbody tr th {\n",
              "        vertical-align: top;\n",
              "    }\n",
              "\n",
              "    .dataframe thead th {\n",
              "        text-align: right;\n",
              "    }\n",
              "</style>\n",
              "<table border=\"1\" class=\"dataframe\">\n",
              "  <thead>\n",
              "    <tr style=\"text-align: right;\">\n",
              "      <th></th>\n",
              "      <th>id</th>\n",
              "      <th>var_rpta</th>\n",
              "      <th>nro_sesiones</th>\n",
              "    </tr>\n",
              "  </thead>\n",
              "  <tbody>\n",
              "    <tr>\n",
              "      <th>0</th>\n",
              "      <td>1</td>\n",
              "      <td>0</td>\n",
              "      <td>69</td>\n",
              "    </tr>\n",
              "    <tr>\n",
              "      <th>1</th>\n",
              "      <td>2</td>\n",
              "      <td>0</td>\n",
              "      <td>2</td>\n",
              "    </tr>\n",
              "    <tr>\n",
              "      <th>2</th>\n",
              "      <td>3</td>\n",
              "      <td>0</td>\n",
              "      <td>6</td>\n",
              "    </tr>\n",
              "    <tr>\n",
              "      <th>3</th>\n",
              "      <td>4</td>\n",
              "      <td>0</td>\n",
              "      <td>619</td>\n",
              "    </tr>\n",
              "    <tr>\n",
              "      <th>4</th>\n",
              "      <td>5</td>\n",
              "      <td>0</td>\n",
              "      <td>120</td>\n",
              "    </tr>\n",
              "  </tbody>\n",
              "</table>\n",
              "</div>"
            ],
            "text/plain": [
              "   id  var_rpta  nro_sesiones\n",
              "0   1         0            69\n",
              "1   2         0             2\n",
              "2   3         0             6\n",
              "3   4         0           619\n",
              "4   5         0           120"
            ]
          },
          "metadata": {
            "tags": []
          },
          "execution_count": 8
        }
      ]
    },
    {
      "cell_type": "code",
      "metadata": {
        "id": "gm2hiv6w-rp8",
        "colab_type": "code",
        "outputId": "a5af2bba-caea-430e-f54c-38ddc46681b1",
        "colab": {}
      },
      "source": [
        "sns.distplot(sesiones_final[sesiones_final.var_rpta == 0].nro_sesiones, \n",
        "             hist = False, \n",
        "             kde_kws={'clip': (0, 500), 'shade': True},  \n",
        "             \n",
        "             label = '0')\n",
        "sns.distplot(sesiones_final[sesiones_final.var_rpta == 1].nro_sesiones, \n",
        "             hist = False, \n",
        "             kde_kws={'clip': (0, 500), 'shade': True}, \n",
        "             label = '1')\n",
        "plt.title(\"Densidades de la cantidad de sesiones por etiqueta\", fontsize = 15)\n",
        "plt.legend()"
      ],
      "execution_count": 0,
      "outputs": [
        {
          "output_type": "execute_result",
          "data": {
            "text/plain": [
              "<matplotlib.legend.Legend at 0x1d800575fd0>"
            ]
          },
          "metadata": {
            "tags": []
          },
          "execution_count": 28
        },
        {
          "output_type": "display_data",
          "data": {
            "image/png": "[encoded data removed]",
            "text/plain": [
              "<Figure size 576x396 with 1 Axes>"
            ]
          },
          "metadata": {
            "tags": []
          }
        }
      ]
    },
    {
      "cell_type": "markdown",
      "metadata": {
        "id": "cYSjtbdc-rp-",
        "colab_type": "text"
      },
      "source": [
        "# Rango de tiempo"
      ]
    },
    {
      "cell_type": "code",
      "metadata": {
        "id": "0eqPMFZ8-rp-",
        "colab_type": "code",
        "outputId": "880841b9-1326-4188-b8c1-ee2d5cb5c6c3",
        "colab": {}
      },
      "source": [
        "# Para predicción\n",
        "\n",
        "#fechas = trx_prueba.groupby([\"id\"]).fecha_trxn.agg([\"max\", \"min\"]).reset_index()\n",
        "#fechas[\"max\"] = pd.to_datetime(fechas[\"max\"])\n",
        "#fechas[\"min\"] = pd.to_datetime(fechas[\"min\"])\n",
        "#fechas.head()"
      ],
      "execution_count": 0,
      "outputs": [
        {
          "output_type": "execute_result",
          "data": {
            "text/html": [
              "<div>\n",
              "<style scoped>\n",
              "    .dataframe tbody tr th:only-of-type {\n",
              "        vertical-align: middle;\n",
              "    }\n",
              "\n",
              "    .dataframe tbody tr th {\n",
              "        vertical-align: top;\n",
              "    }\n",
              "\n",
              "    .dataframe thead th {\n",
              "        text-align: right;\n",
              "    }\n",
              "</style>\n",
              "<table border=\"1\" class=\"dataframe\">\n",
              "  <thead>\n",
              "    <tr style=\"text-align: right;\">\n",
              "      <th></th>\n",
              "      <th>id</th>\n",
              "      <th>max</th>\n",
              "      <th>min</th>\n",
              "    </tr>\n",
              "  </thead>\n",
              "  <tbody>\n",
              "    <tr>\n",
              "      <th>0</th>\n",
              "      <td>1</td>\n",
              "      <td>2018-02-20 14:16:00.211800</td>\n",
              "      <td>2017-03-03 08:49:00.033200</td>\n",
              "    </tr>\n",
              "    <tr>\n",
              "      <th>1</th>\n",
              "      <td>2</td>\n",
              "      <td>2015-11-01 09:50:00.026800</td>\n",
              "      <td>2015-11-01 09:48:00.027600</td>\n",
              "    </tr>\n",
              "    <tr>\n",
              "      <th>2</th>\n",
              "      <td>3</td>\n",
              "      <td>2016-05-04 10:09:00.201500</td>\n",
              "      <td>2016-01-18 19:35:00.297600</td>\n",
              "    </tr>\n",
              "    <tr>\n",
              "      <th>3</th>\n",
              "      <td>4</td>\n",
              "      <td>2017-05-29 10:53:00.335300</td>\n",
              "      <td>2016-06-02 12:58:00.423700</td>\n",
              "    </tr>\n",
              "    <tr>\n",
              "      <th>4</th>\n",
              "      <td>5</td>\n",
              "      <td>2017-02-27 20:02:00.165100</td>\n",
              "      <td>2016-03-14 18:37:00.167900</td>\n",
              "    </tr>\n",
              "  </tbody>\n",
              "</table>\n",
              "</div>"
            ],
            "text/plain": [
              "   id                        max                        min\n",
              "0   1 2018-02-20 14:16:00.211800 2017-03-03 08:49:00.033200\n",
              "1   2 2015-11-01 09:50:00.026800 2015-11-01 09:48:00.027600\n",
              "2   3 2016-05-04 10:09:00.201500 2016-01-18 19:35:00.297600\n",
              "3   4 2017-05-29 10:53:00.335300 2016-06-02 12:58:00.423700\n",
              "4   5 2017-02-27 20:02:00.165100 2016-03-14 18:37:00.167900"
            ]
          },
          "metadata": {
            "tags": []
          },
          "execution_count": 9
        }
      ]
    },
    {
      "cell_type": "code",
      "metadata": {
        "id": "baOcS_oW-rqD",
        "colab_type": "code",
        "outputId": "8656796e-a247-48d6-8d5f-891f0e60ed00",
        "colab": {}
      },
      "source": [
        "fechas = trx_prueba.groupby([\"id\", \"var_rpta\"]).fecha_trxn.agg([\"max\", \"min\"]).reset_index()\n",
        "fechas[\"max\"] = pd.to_datetime(fechas[\"max\"])\n",
        "fechas[\"min\"] = pd.to_datetime(fechas[\"min\"])\n",
        "fechas.head()"
      ],
      "execution_count": 0,
      "outputs": [
        {
          "output_type": "execute_result",
          "data": {
            "text/html": [
              "<div>\n",
              "<style scoped>\n",
              "    .dataframe tbody tr th:only-of-type {\n",
              "        vertical-align: middle;\n",
              "    }\n",
              "\n",
              "    .dataframe tbody tr th {\n",
              "        vertical-align: top;\n",
              "    }\n",
              "\n",
              "    .dataframe thead th {\n",
              "        text-align: right;\n",
              "    }\n",
              "</style>\n",
              "<table border=\"1\" class=\"dataframe\">\n",
              "  <thead>\n",
              "    <tr style=\"text-align: right;\">\n",
              "      <th></th>\n",
              "      <th>id</th>\n",
              "      <th>var_rpta</th>\n",
              "      <th>max</th>\n",
              "      <th>min</th>\n",
              "    </tr>\n",
              "  </thead>\n",
              "  <tbody>\n",
              "    <tr>\n",
              "      <th>0</th>\n",
              "      <td>1</td>\n",
              "      <td>0</td>\n",
              "      <td>2018-02-20 14:16:00.211800</td>\n",
              "      <td>2017-03-03 08:49:00.033200</td>\n",
              "    </tr>\n",
              "    <tr>\n",
              "      <th>1</th>\n",
              "      <td>2</td>\n",
              "      <td>0</td>\n",
              "      <td>2015-11-01 09:50:00.026800</td>\n",
              "      <td>2015-11-01 09:48:00.027600</td>\n",
              "    </tr>\n",
              "    <tr>\n",
              "      <th>2</th>\n",
              "      <td>3</td>\n",
              "      <td>0</td>\n",
              "      <td>2016-05-04 10:09:00.201500</td>\n",
              "      <td>2016-01-18 19:35:00.297600</td>\n",
              "    </tr>\n",
              "    <tr>\n",
              "      <th>3</th>\n",
              "      <td>4</td>\n",
              "      <td>0</td>\n",
              "      <td>2017-05-29 10:53:00.335300</td>\n",
              "      <td>2016-06-02 12:58:00.423700</td>\n",
              "    </tr>\n",
              "    <tr>\n",
              "      <th>4</th>\n",
              "      <td>5</td>\n",
              "      <td>0</td>\n",
              "      <td>2017-02-27 20:02:00.165100</td>\n",
              "      <td>2016-03-14 18:37:00.167900</td>\n",
              "    </tr>\n",
              "  </tbody>\n",
              "</table>\n",
              "</div>"
            ],
            "text/plain": [
              "   id  var_rpta                        max                        min\n",
              "0   1         0 2018-02-20 14:16:00.211800 2017-03-03 08:49:00.033200\n",
              "1   2         0 2015-11-01 09:50:00.026800 2015-11-01 09:48:00.027600\n",
              "2   3         0 2016-05-04 10:09:00.201500 2016-01-18 19:35:00.297600\n",
              "3   4         0 2017-05-29 10:53:00.335300 2016-06-02 12:58:00.423700\n",
              "4   5         0 2017-02-27 20:02:00.165100 2016-03-14 18:37:00.167900"
            ]
          },
          "metadata": {
            "tags": []
          },
          "execution_count": 10
        }
      ]
    },
    {
      "cell_type": "code",
      "metadata": {
        "id": "OnozmjVq-rqG",
        "colab_type": "code",
        "colab": {}
      },
      "source": [
        "def convertir_a_dias(object):\n",
        "    return object.days/365"
      ],
      "execution_count": 0,
      "outputs": []
    },
    {
      "cell_type": "code",
      "metadata": {
        "id": "b-Idghai-rqK",
        "colab_type": "code",
        "outputId": "de9f3989-af50-4037-9e5e-67c6ba119340",
        "colab": {}
      },
      "source": [
        "fechas[\"diff\"] = (fechas[\"max\"] - fechas[\"min\"]).map(convertir_a_dias)\n",
        "fechas.head()"
      ],
      "execution_count": 0,
      "outputs": [
        {
          "output_type": "execute_result",
          "data": {
            "text/html": [
              "<div>\n",
              "<style scoped>\n",
              "    .dataframe tbody tr th:only-of-type {\n",
              "        vertical-align: middle;\n",
              "    }\n",
              "\n",
              "    .dataframe tbody tr th {\n",
              "        vertical-align: top;\n",
              "    }\n",
              "\n",
              "    .dataframe thead th {\n",
              "        text-align: right;\n",
              "    }\n",
              "</style>\n",
              "<table border=\"1\" class=\"dataframe\">\n",
              "  <thead>\n",
              "    <tr style=\"text-align: right;\">\n",
              "      <th></th>\n",
              "      <th>id</th>\n",
              "      <th>var_rpta</th>\n",
              "      <th>max</th>\n",
              "      <th>min</th>\n",
              "      <th>diff</th>\n",
              "    </tr>\n",
              "  </thead>\n",
              "  <tbody>\n",
              "    <tr>\n",
              "      <th>0</th>\n",
              "      <td>1</td>\n",
              "      <td>0</td>\n",
              "      <td>2018-02-20 14:16:00.211800</td>\n",
              "      <td>2017-03-03 08:49:00.033200</td>\n",
              "      <td>0.969863</td>\n",
              "    </tr>\n",
              "    <tr>\n",
              "      <th>1</th>\n",
              "      <td>2</td>\n",
              "      <td>0</td>\n",
              "      <td>2015-11-01 09:50:00.026800</td>\n",
              "      <td>2015-11-01 09:48:00.027600</td>\n",
              "      <td>0.000000</td>\n",
              "    </tr>\n",
              "    <tr>\n",
              "      <th>2</th>\n",
              "      <td>3</td>\n",
              "      <td>0</td>\n",
              "      <td>2016-05-04 10:09:00.201500</td>\n",
              "      <td>2016-01-18 19:35:00.297600</td>\n",
              "      <td>0.290411</td>\n",
              "    </tr>\n",
              "    <tr>\n",
              "      <th>3</th>\n",
              "      <td>4</td>\n",
              "      <td>0</td>\n",
              "      <td>2017-05-29 10:53:00.335300</td>\n",
              "      <td>2016-06-02 12:58:00.423700</td>\n",
              "      <td>0.986301</td>\n",
              "    </tr>\n",
              "    <tr>\n",
              "      <th>4</th>\n",
              "      <td>5</td>\n",
              "      <td>0</td>\n",
              "      <td>2017-02-27 20:02:00.165100</td>\n",
              "      <td>2016-03-14 18:37:00.167900</td>\n",
              "      <td>0.958904</td>\n",
              "    </tr>\n",
              "  </tbody>\n",
              "</table>\n",
              "</div>"
            ],
            "text/plain": [
              "   id  var_rpta                        max                        min  \\\n",
              "0   1         0 2018-02-20 14:16:00.211800 2017-03-03 08:49:00.033200   \n",
              "1   2         0 2015-11-01 09:50:00.026800 2015-11-01 09:48:00.027600   \n",
              "2   3         0 2016-05-04 10:09:00.201500 2016-01-18 19:35:00.297600   \n",
              "3   4         0 2017-05-29 10:53:00.335300 2016-06-02 12:58:00.423700   \n",
              "4   5         0 2017-02-27 20:02:00.165100 2016-03-14 18:37:00.167900   \n",
              "\n",
              "       diff  \n",
              "0  0.969863  \n",
              "1  0.000000  \n",
              "2  0.290411  \n",
              "3  0.986301  \n",
              "4  0.958904  "
            ]
          },
          "metadata": {
            "tags": []
          },
          "execution_count": 12
        }
      ]
    },
    {
      "cell_type": "code",
      "metadata": {
        "id": "-xG17AyR-rqO",
        "colab_type": "code",
        "outputId": "d6c5f3aa-e90e-44a6-8007-b6416f02532d",
        "colab": {}
      },
      "source": [
        "sns.distplot(fechas[fechas.var_rpta == 0][\"diff\"], \n",
        "             hist = False, \n",
        "             kde_kws={'clip': (0, 500), 'shade': True}, \n",
        "             label = '0')\n",
        "sns.distplot(fechas[fechas.var_rpta == 1][\"diff\"], \n",
        "             hist = False, \n",
        "             kde_kws={'clip': (0, 500), 'shade': True}, \n",
        "             label = '1')\n",
        "plt.title(\"Rango tiempo\", fontsize = 15)\n",
        "plt.legend()"
      ],
      "execution_count": 0,
      "outputs": [
        {
          "output_type": "execute_result",
          "data": {
            "text/plain": [
              "<matplotlib.legend.Legend at 0x1d972a6d898>"
            ]
          },
          "metadata": {
            "tags": []
          },
          "execution_count": 32
        },
        {
          "output_type": "display_data",
          "data": {
            "image/png": "[encoded data removed]",
            "text/plain": [
              "<Figure size 576x396 with 1 Axes>"
            ]
          },
          "metadata": {
            "tags": []
          }
        }
      ]
    },
    {
      "cell_type": "markdown",
      "metadata": {
        "id": "1izoEY2V-rqR",
        "colab_type": "text"
      },
      "source": [
        "# Incluir descripciones de código y trxn"
      ]
    },
    {
      "cell_type": "code",
      "metadata": {
        "id": "f5Oy8Agj-rqR",
        "colab_type": "code",
        "colab": {}
      },
      "source": [
        "trx_prueba[\"id\"] = trx_prueba[\"id\"].astype(str)\n",
        "trx_prueba[\"cdgtrn\"] = trx_prueba[\"cdgtrn\"].astype(str)\n",
        "trx_prueba[\"cdgrpta\"] = trx_prueba[\"cdgrpta\"].astype(str)\n",
        "\n",
        "datos_maestra[\"cdgtrn\"] = datos_maestra[\"cdgtrn\"].astype(str)\n",
        "datos_maestra[\"cdgrpta\"] = datos_maestra[\"cdgrpta\"].astype(str)"
      ],
      "execution_count": 0,
      "outputs": []
    },
    {
      "cell_type": "code",
      "metadata": {
        "scrolled": false,
        "id": "KrYs-_zg-rqU",
        "colab_type": "code",
        "outputId": "a7e817ea-503e-407d-82da-a923232dd002",
        "colab": {}
      },
      "source": [
        "trx_prueba_maestra = trx_prueba.merge(datos_maestra, how = 'left', on = ['canal', 'disposit', 'cdgtrn', 'cdgrpta'])\n",
        "trx_prueba_maestra.head(10)"
      ],
      "execution_count": 0,
      "outputs": [
        {
          "output_type": "execute_result",
          "data": {
            "text/html": [
              "<div>\n",
              "<style scoped>\n",
              "    .dataframe tbody tr th:only-of-type {\n",
              "        vertical-align: middle;\n",
              "    }\n",
              "\n",
              "    .dataframe tbody tr th {\n",
              "        vertical-align: top;\n",
              "    }\n",
              "\n",
              "    .dataframe thead th {\n",
              "        text-align: right;\n",
              "    }\n",
              "</style>\n",
              "<table border=\"1\" class=\"dataframe\">\n",
              "  <thead>\n",
              "    <tr style=\"text-align: right;\">\n",
              "      <th></th>\n",
              "      <th>id</th>\n",
              "      <th>fecha_trxn</th>\n",
              "      <th>canal</th>\n",
              "      <th>disposit</th>\n",
              "      <th>cdgtrn</th>\n",
              "      <th>cdgrpta</th>\n",
              "      <th>vlrtran</th>\n",
              "      <th>sesion</th>\n",
              "      <th>f_analisis</th>\n",
              "      <th>var_rpta</th>\n",
              "      <th>...</th>\n",
              "      <th>medio</th>\n",
              "      <th>grupo_descrp_trxn</th>\n",
              "      <th>descrip_trxn</th>\n",
              "      <th>clasif_trxn</th>\n",
              "      <th>descripcion_grupo</th>\n",
              "      <th>descrip_cod_rpta</th>\n",
              "      <th>clasif_cod_rpta</th>\n",
              "      <th>grupo_modifcado</th>\n",
              "      <th>culpa_banco</th>\n",
              "      <th>producto_asociado</th>\n",
              "    </tr>\n",
              "  </thead>\n",
              "  <tbody>\n",
              "    <tr>\n",
              "      <th>0</th>\n",
              "      <td>50578</td>\n",
              "      <td>2016-02-27 11:18:00.465900</td>\n",
              "      <td>CANAL_5</td>\n",
              "      <td>DISPOSIT_4</td>\n",
              "      <td>369</td>\n",
              "      <td>0</td>\n",
              "      <td>0.0</td>\n",
              "      <td>94</td>\n",
              "      <td>201605</td>\n",
              "      <td>0</td>\n",
              "      <td>...</td>\n",
              "      <td>CANAL_5DISPOSIT_4</td>\n",
              "      <td>Logueo Para Transacciones</td>\n",
              "      <td>Logueo Para Transacciones</td>\n",
              "      <td>No Financiera</td>\n",
              "      <td>Autenticacion</td>\n",
              "      <td>Transaccion Exitosa</td>\n",
              "      <td>Exitosa</td>\n",
              "      <td>Autenticaciones</td>\n",
              "      <td>NaN</td>\n",
              "      <td>Sin producto</td>\n",
              "    </tr>\n",
              "    <tr>\n",
              "      <th>1</th>\n",
              "      <td>50578</td>\n",
              "      <td>2016-02-26 14:25:00.165800</td>\n",
              "      <td>CANAL_5</td>\n",
              "      <td>DISPOSIT_4</td>\n",
              "      <td>356</td>\n",
              "      <td>0</td>\n",
              "      <td>0.0</td>\n",
              "      <td>93</td>\n",
              "      <td>201605</td>\n",
              "      <td>0</td>\n",
              "      <td>...</td>\n",
              "      <td>CANAL_5DISPOSIT_4</td>\n",
              "      <td>Consulta De Saldo Deposito</td>\n",
              "      <td>Consulta De Saldos Consolidados</td>\n",
              "      <td>No Financiera</td>\n",
              "      <td>Consultas / Movimientos / Extractos</td>\n",
              "      <td>Transaccion Exitosa</td>\n",
              "      <td>Exitosa</td>\n",
              "      <td>Consultas / Movimientos / Extractos</td>\n",
              "      <td>NaN</td>\n",
              "      <td>Tarjeta Debito</td>\n",
              "    </tr>\n",
              "    <tr>\n",
              "      <th>2</th>\n",
              "      <td>50578</td>\n",
              "      <td>2016-02-26 14:25:00.058900</td>\n",
              "      <td>CANAL_5</td>\n",
              "      <td>DISPOSIT_4</td>\n",
              "      <td>369</td>\n",
              "      <td>0</td>\n",
              "      <td>0.0</td>\n",
              "      <td>93</td>\n",
              "      <td>201605</td>\n",
              "      <td>0</td>\n",
              "      <td>...</td>\n",
              "      <td>CANAL_5DISPOSIT_4</td>\n",
              "      <td>Logueo Para Transacciones</td>\n",
              "      <td>Logueo Para Transacciones</td>\n",
              "      <td>No Financiera</td>\n",
              "      <td>Autenticacion</td>\n",
              "      <td>Transaccion Exitosa</td>\n",
              "      <td>Exitosa</td>\n",
              "      <td>Autenticaciones</td>\n",
              "      <td>NaN</td>\n",
              "      <td>Sin producto</td>\n",
              "    </tr>\n",
              "    <tr>\n",
              "      <th>3</th>\n",
              "      <td>50578</td>\n",
              "      <td>2016-02-25 14:08:00.471500</td>\n",
              "      <td>CANAL_5</td>\n",
              "      <td>DISPOSIT_4</td>\n",
              "      <td>604</td>\n",
              "      <td>599</td>\n",
              "      <td>0.0</td>\n",
              "      <td>92</td>\n",
              "      <td>201605</td>\n",
              "      <td>0</td>\n",
              "      <td>...</td>\n",
              "      <td>CANAL_5DISPOSIT_4</td>\n",
              "      <td>Validacion De Segunda Clave</td>\n",
              "      <td>Validacion De Segunda Clave</td>\n",
              "      <td>No considerar</td>\n",
              "      <td>No considerar</td>\n",
              "      <td>Segunda Clave Bloqueada Por Seguridad Bancaria</td>\n",
              "      <td>No considerar</td>\n",
              "      <td>NaN</td>\n",
              "      <td>NO</td>\n",
              "      <td>Sin producto</td>\n",
              "    </tr>\n",
              "    <tr>\n",
              "      <th>4</th>\n",
              "      <td>50578</td>\n",
              "      <td>2016-02-25 14:08:00.364800</td>\n",
              "      <td>CANAL_5</td>\n",
              "      <td>DISPOSIT_4</td>\n",
              "      <td>604</td>\n",
              "      <td>599</td>\n",
              "      <td>0.0</td>\n",
              "      <td>92</td>\n",
              "      <td>201605</td>\n",
              "      <td>0</td>\n",
              "      <td>...</td>\n",
              "      <td>CANAL_5DISPOSIT_4</td>\n",
              "      <td>Validacion De Segunda Clave</td>\n",
              "      <td>Validacion De Segunda Clave</td>\n",
              "      <td>No considerar</td>\n",
              "      <td>No considerar</td>\n",
              "      <td>Segunda Clave Bloqueada Por Seguridad Bancaria</td>\n",
              "      <td>No considerar</td>\n",
              "      <td>NaN</td>\n",
              "      <td>NO</td>\n",
              "      <td>Sin producto</td>\n",
              "    </tr>\n",
              "    <tr>\n",
              "      <th>5</th>\n",
              "      <td>50578</td>\n",
              "      <td>2016-02-25 14:08:00.220600</td>\n",
              "      <td>CANAL_5</td>\n",
              "      <td>DISPOSIT_4</td>\n",
              "      <td>356</td>\n",
              "      <td>0</td>\n",
              "      <td>0.0</td>\n",
              "      <td>92</td>\n",
              "      <td>201605</td>\n",
              "      <td>0</td>\n",
              "      <td>...</td>\n",
              "      <td>CANAL_5DISPOSIT_4</td>\n",
              "      <td>Consulta De Saldo Deposito</td>\n",
              "      <td>Consulta De Saldos Consolidados</td>\n",
              "      <td>No Financiera</td>\n",
              "      <td>Consultas / Movimientos / Extractos</td>\n",
              "      <td>Transaccion Exitosa</td>\n",
              "      <td>Exitosa</td>\n",
              "      <td>Consultas / Movimientos / Extractos</td>\n",
              "      <td>NaN</td>\n",
              "      <td>Tarjeta Debito</td>\n",
              "    </tr>\n",
              "    <tr>\n",
              "      <th>6</th>\n",
              "      <td>50578</td>\n",
              "      <td>2016-02-25 14:08:00.147900</td>\n",
              "      <td>CANAL_5</td>\n",
              "      <td>DISPOSIT_4</td>\n",
              "      <td>369</td>\n",
              "      <td>0</td>\n",
              "      <td>0.0</td>\n",
              "      <td>92</td>\n",
              "      <td>201605</td>\n",
              "      <td>0</td>\n",
              "      <td>...</td>\n",
              "      <td>CANAL_5DISPOSIT_4</td>\n",
              "      <td>Logueo Para Transacciones</td>\n",
              "      <td>Logueo Para Transacciones</td>\n",
              "      <td>No Financiera</td>\n",
              "      <td>Autenticacion</td>\n",
              "      <td>Transaccion Exitosa</td>\n",
              "      <td>Exitosa</td>\n",
              "      <td>Autenticaciones</td>\n",
              "      <td>NaN</td>\n",
              "      <td>Sin producto</td>\n",
              "    </tr>\n",
              "    <tr>\n",
              "      <th>7</th>\n",
              "      <td>50578</td>\n",
              "      <td>2016-02-24 14:57:00.045300</td>\n",
              "      <td>CANAL_5</td>\n",
              "      <td>DISPOSIT_4</td>\n",
              "      <td>464</td>\n",
              "      <td>0</td>\n",
              "      <td>0.0</td>\n",
              "      <td>91</td>\n",
              "      <td>201605</td>\n",
              "      <td>0</td>\n",
              "      <td>...</td>\n",
              "      <td>CANAL_5DISPOSIT_4</td>\n",
              "      <td>Consulta De Movimientos Deposito</td>\n",
              "      <td>Consulta Movimientos Cuentas Deposito</td>\n",
              "      <td>No Financiera</td>\n",
              "      <td>Consultas / Movimientos / Extractos</td>\n",
              "      <td>Transaccion Exitosa</td>\n",
              "      <td>Exitosa</td>\n",
              "      <td>Consultas / Movimientos / Extractos</td>\n",
              "      <td>NaN</td>\n",
              "      <td>Tarjeta Debito</td>\n",
              "    </tr>\n",
              "    <tr>\n",
              "      <th>8</th>\n",
              "      <td>50578</td>\n",
              "      <td>2016-02-24 14:57:00.044500</td>\n",
              "      <td>CANAL_5</td>\n",
              "      <td>DISPOSIT_4</td>\n",
              "      <td>360</td>\n",
              "      <td>0</td>\n",
              "      <td>0.0</td>\n",
              "      <td>91</td>\n",
              "      <td>201605</td>\n",
              "      <td>0</td>\n",
              "      <td>...</td>\n",
              "      <td>CANAL_5DISPOSIT_4</td>\n",
              "      <td>Consulta De Saldo Deposito</td>\n",
              "      <td>Consulta De Saldos De Cuentas En Tiempo Real</td>\n",
              "      <td>No considerar</td>\n",
              "      <td>No considerar</td>\n",
              "      <td>Transaccion Exitosa</td>\n",
              "      <td>No considerar</td>\n",
              "      <td>NaN</td>\n",
              "      <td>NO</td>\n",
              "      <td>Sin producto</td>\n",
              "    </tr>\n",
              "    <tr>\n",
              "      <th>9</th>\n",
              "      <td>50578</td>\n",
              "      <td>2016-02-24 14:57:00.040600</td>\n",
              "      <td>CANAL_5</td>\n",
              "      <td>DISPOSIT_4</td>\n",
              "      <td>491</td>\n",
              "      <td>0</td>\n",
              "      <td>0.0</td>\n",
              "      <td>91</td>\n",
              "      <td>201605</td>\n",
              "      <td>0</td>\n",
              "      <td>...</td>\n",
              "      <td>CANAL_5DISPOSIT_4</td>\n",
              "      <td>Consulta Cuentas Inscritas Banco</td>\n",
              "      <td>Consulta Cuentas Inscritas Banco</td>\n",
              "      <td>No considerar</td>\n",
              "      <td>No considerar</td>\n",
              "      <td>Transaccion Exitosa</td>\n",
              "      <td>Exitosa</td>\n",
              "      <td>NaN</td>\n",
              "      <td>NaN</td>\n",
              "      <td>Sin producto</td>\n",
              "    </tr>\n",
              "  </tbody>\n",
              "</table>\n",
              "<p>10 rows × 21 columns</p>\n",
              "</div>"
            ],
            "text/plain": [
              "      id                  fecha_trxn    canal    disposit cdgtrn cdgrpta  \\\n",
              "0  50578  2016-02-27 11:18:00.465900  CANAL_5  DISPOSIT_4    369       0   \n",
              "1  50578  2016-02-26 14:25:00.165800  CANAL_5  DISPOSIT_4    356       0   \n",
              "2  50578  2016-02-26 14:25:00.058900  CANAL_5  DISPOSIT_4    369       0   \n",
              "3  50578  2016-02-25 14:08:00.471500  CANAL_5  DISPOSIT_4    604     599   \n",
              "4  50578  2016-02-25 14:08:00.364800  CANAL_5  DISPOSIT_4    604     599   \n",
              "5  50578  2016-02-25 14:08:00.220600  CANAL_5  DISPOSIT_4    356       0   \n",
              "6  50578  2016-02-25 14:08:00.147900  CANAL_5  DISPOSIT_4    369       0   \n",
              "7  50578  2016-02-24 14:57:00.045300  CANAL_5  DISPOSIT_4    464       0   \n",
              "8  50578  2016-02-24 14:57:00.044500  CANAL_5  DISPOSIT_4    360       0   \n",
              "9  50578  2016-02-24 14:57:00.040600  CANAL_5  DISPOSIT_4    491       0   \n",
              "\n",
              "   vlrtran  sesion  f_analisis  var_rpta  ...              medio  \\\n",
              "0      0.0      94      201605         0  ...  CANAL_5DISPOSIT_4   \n",
              "1      0.0      93      201605         0  ...  CANAL_5DISPOSIT_4   \n",
              "2      0.0      93      201605         0  ...  CANAL_5DISPOSIT_4   \n",
              "3      0.0      92      201605         0  ...  CANAL_5DISPOSIT_4   \n",
              "4      0.0      92      201605         0  ...  CANAL_5DISPOSIT_4   \n",
              "5      0.0      92      201605         0  ...  CANAL_5DISPOSIT_4   \n",
              "6      0.0      92      201605         0  ...  CANAL_5DISPOSIT_4   \n",
              "7      0.0      91      201605         0  ...  CANAL_5DISPOSIT_4   \n",
              "8      0.0      91      201605         0  ...  CANAL_5DISPOSIT_4   \n",
              "9      0.0      91      201605         0  ...  CANAL_5DISPOSIT_4   \n",
              "\n",
              "                  grupo_descrp_trxn  \\\n",
              "0         Logueo Para Transacciones   \n",
              "1        Consulta De Saldo Deposito   \n",
              "2         Logueo Para Transacciones   \n",
              "3       Validacion De Segunda Clave   \n",
              "4       Validacion De Segunda Clave   \n",
              "5        Consulta De Saldo Deposito   \n",
              "6         Logueo Para Transacciones   \n",
              "7  Consulta De Movimientos Deposito   \n",
              "8        Consulta De Saldo Deposito   \n",
              "9  Consulta Cuentas Inscritas Banco   \n",
              "\n",
              "                                   descrip_trxn    clasif_trxn  \\\n",
              "0                     Logueo Para Transacciones  No Financiera   \n",
              "1               Consulta De Saldos Consolidados  No Financiera   \n",
              "2                     Logueo Para Transacciones  No Financiera   \n",
              "3                   Validacion De Segunda Clave  No considerar   \n",
              "4                   Validacion De Segunda Clave  No considerar   \n",
              "5               Consulta De Saldos Consolidados  No Financiera   \n",
              "6                     Logueo Para Transacciones  No Financiera   \n",
              "7         Consulta Movimientos Cuentas Deposito  No Financiera   \n",
              "8  Consulta De Saldos De Cuentas En Tiempo Real  No considerar   \n",
              "9              Consulta Cuentas Inscritas Banco  No considerar   \n",
              "\n",
              "                     descripcion_grupo  \\\n",
              "0                        Autenticacion   \n",
              "1  Consultas / Movimientos / Extractos   \n",
              "2                        Autenticacion   \n",
              "3                        No considerar   \n",
              "4                        No considerar   \n",
              "5  Consultas / Movimientos / Extractos   \n",
              "6                        Autenticacion   \n",
              "7  Consultas / Movimientos / Extractos   \n",
              "8                        No considerar   \n",
              "9                        No considerar   \n",
              "\n",
              "                                 descrip_cod_rpta clasif_cod_rpta  \\\n",
              "0                             Transaccion Exitosa         Exitosa   \n",
              "1                             Transaccion Exitosa         Exitosa   \n",
              "2                             Transaccion Exitosa         Exitosa   \n",
              "3  Segunda Clave Bloqueada Por Seguridad Bancaria   No considerar   \n",
              "4  Segunda Clave Bloqueada Por Seguridad Bancaria   No considerar   \n",
              "5                             Transaccion Exitosa         Exitosa   \n",
              "6                             Transaccion Exitosa         Exitosa   \n",
              "7                             Transaccion Exitosa         Exitosa   \n",
              "8                             Transaccion Exitosa   No considerar   \n",
              "9                             Transaccion Exitosa         Exitosa   \n",
              "\n",
              "                       grupo_modifcado culpa_banco producto_asociado  \n",
              "0                      Autenticaciones         NaN      Sin producto  \n",
              "1  Consultas / Movimientos / Extractos         NaN    Tarjeta Debito  \n",
              "2                      Autenticaciones         NaN      Sin producto  \n",
              "3                                  NaN          NO      Sin producto  \n",
              "4                                  NaN          NO      Sin producto  \n",
              "5  Consultas / Movimientos / Extractos         NaN    Tarjeta Debito  \n",
              "6                      Autenticaciones         NaN      Sin producto  \n",
              "7  Consultas / Movimientos / Extractos         NaN    Tarjeta Debito  \n",
              "8                                  NaN          NO      Sin producto  \n",
              "9                                  NaN         NaN      Sin producto  \n",
              "\n",
              "[10 rows x 21 columns]"
            ]
          },
          "metadata": {
            "tags": []
          },
          "execution_count": 14
        }
      ]
    },
    {
      "cell_type": "code",
      "metadata": {
        "id": "FbDBZPWc-rqX",
        "colab_type": "code",
        "colab": {}
      },
      "source": [
        "#Para predicción\n",
        "\n",
        "conteo_cliente = trx_prueba_maestra.groupby([\"id\"]).agg({\n",
        "                                      \"canal\": 'nunique', \n",
        "                                      \"disposit\": 'nunique',\n",
        "                                      \"medio\" : 'nunique',\n",
        "                                      \"grupo_modifcado\": 'nunique',\n",
        "                                      \"producto_asociado\" : 'nunique'}).reset_index()"
      ],
      "execution_count": 0,
      "outputs": []
    },
    {
      "cell_type": "code",
      "metadata": {
        "id": "AFJUgddE-rqa",
        "colab_type": "code",
        "colab": {}
      },
      "source": [
        "conteo_cliente = trx_prueba_maestra.groupby([\"id\", \"var_rpta\"]).agg({\n",
        "                                      \"canal\": 'nunique', \n",
        "                                      \"disposit\": 'nunique',\n",
        "                                      \"medio\" : 'nunique',\n",
        "                                      \"grupo_modifcado\": 'nunique',\n",
        "                                      \"producto_asociado\" : 'nunique'}).reset_index()"
      ],
      "execution_count": 0,
      "outputs": []
    },
    {
      "cell_type": "code",
      "metadata": {
        "id": "v21aiNpx-rqd",
        "colab_type": "code",
        "colab": {}
      },
      "source": [
        "conteo_cliente.head()"
      ],
      "execution_count": 0,
      "outputs": []
    },
    {
      "cell_type": "code",
      "metadata": {
        "id": "_I9XF-kp-rqg",
        "colab_type": "code",
        "colab": {}
      },
      "source": [
        "lista_medias = []\n",
        "for columna in conteo_cliente.columns[2:]:\n",
        "    tipo_0 = conteo_cliente[conteo_cliente.var_rpta == 0][columna].mean()\n",
        "    tipo_1 = conteo_cliente[conteo_cliente.var_rpta == 1][columna].mean()\n",
        "    lista_medias.append(np.array([tipo_0, tipo_1]))"
      ],
      "execution_count": 0,
      "outputs": []
    },
    {
      "cell_type": "code",
      "metadata": {
        "id": "1Y-z_qv5-rqk",
        "colab_type": "code",
        "outputId": "3684533b-4378-4544-d45b-8bf6ce5798bf",
        "colab": {}
      },
      "source": [
        "data = dict(zip([\"#_\" + canal for canal in conteo_cliente.columns[2:]], lista_medias))\n",
        "df_medias = pd.DataFrame(data = data)\n",
        "df_medias"
      ],
      "execution_count": 0,
      "outputs": [
        {
          "output_type": "execute_result",
          "data": {
            "text/html": [
              "<div>\n",
              "<style scoped>\n",
              "    .dataframe tbody tr th:only-of-type {\n",
              "        vertical-align: middle;\n",
              "    }\n",
              "\n",
              "    .dataframe tbody tr th {\n",
              "        vertical-align: top;\n",
              "    }\n",
              "\n",
              "    .dataframe thead th {\n",
              "        text-align: right;\n",
              "    }\n",
              "</style>\n",
              "<table border=\"1\" class=\"dataframe\">\n",
              "  <thead>\n",
              "    <tr style=\"text-align: right;\">\n",
              "      <th></th>\n",
              "      <th>#_canal</th>\n",
              "      <th>#_disposit</th>\n",
              "      <th>#_medio</th>\n",
              "      <th>#_grupo_modifcado</th>\n",
              "      <th>#_producto_asociado</th>\n",
              "    </tr>\n",
              "  </thead>\n",
              "  <tbody>\n",
              "    <tr>\n",
              "      <th>0</th>\n",
              "      <td>2.688409</td>\n",
              "      <td>3.492975</td>\n",
              "      <td>4.098512</td>\n",
              "      <td>5.625120</td>\n",
              "      <td>4.062577</td>\n",
              "    </tr>\n",
              "    <tr>\n",
              "      <th>1</th>\n",
              "      <td>2.408685</td>\n",
              "      <td>3.209877</td>\n",
              "      <td>3.730736</td>\n",
              "      <td>4.849085</td>\n",
              "      <td>3.512346</td>\n",
              "    </tr>\n",
              "  </tbody>\n",
              "</table>\n",
              "</div>"
            ],
            "text/plain": [
              "    #_canal  #_disposit   #_medio  #_grupo_modifcado  #_producto_asociado\n",
              "0  2.688409    3.492975  4.098512           5.625120             4.062577\n",
              "1  2.408685    3.209877  3.730736           4.849085             3.512346"
            ]
          },
          "metadata": {
            "tags": []
          },
          "execution_count": 38
        }
      ]
    },
    {
      "cell_type": "markdown",
      "metadata": {
        "id": "PqyPUuDA-rqq",
        "colab_type": "text"
      },
      "source": [
        "# Información financiera"
      ]
    },
    {
      "cell_type": "code",
      "metadata": {
        "id": "WdIcrgGJ-rqs",
        "colab_type": "code",
        "colab": {}
      },
      "source": [
        "# Para predicción\n",
        "\n",
        "tabla_financiera = trx_prueba_maestra[[\"id\", \"clasif_trxn\", \"vlrtran\"]].drop_duplicates()"
      ],
      "execution_count": 0,
      "outputs": []
    },
    {
      "cell_type": "code",
      "metadata": {
        "id": "BOSUol9U-rqv",
        "colab_type": "code",
        "outputId": "cd8e6b63-c130-4f1c-f009-6813816eb4e8",
        "colab": {}
      },
      "source": [
        "# Para predicción\n",
        "\n",
        "tabla_financiera = tabla_financiera.groupby([\"id\"]).agg({'clasif_trxn': 'max',\n",
        "                                                                     'vlrtran': 'max'}).reset_index()\n",
        "tabla_financiera.head()"
      ],
      "execution_count": 0,
      "outputs": [
        {
          "output_type": "execute_result",
          "data": {
            "text/html": [
              "<div>\n",
              "<style scoped>\n",
              "    .dataframe tbody tr th:only-of-type {\n",
              "        vertical-align: middle;\n",
              "    }\n",
              "\n",
              "    .dataframe tbody tr th {\n",
              "        vertical-align: top;\n",
              "    }\n",
              "\n",
              "    .dataframe thead th {\n",
              "        text-align: right;\n",
              "    }\n",
              "</style>\n",
              "<table border=\"1\" class=\"dataframe\">\n",
              "  <thead>\n",
              "    <tr style=\"text-align: right;\">\n",
              "      <th></th>\n",
              "      <th>id</th>\n",
              "      <th>clasif_trxn</th>\n",
              "      <th>vlrtran</th>\n",
              "    </tr>\n",
              "  </thead>\n",
              "  <tbody>\n",
              "    <tr>\n",
              "      <th>0</th>\n",
              "      <td>100000</td>\n",
              "      <td>1</td>\n",
              "      <td>121600.0</td>\n",
              "    </tr>\n",
              "    <tr>\n",
              "      <th>1</th>\n",
              "      <td>100001</td>\n",
              "      <td>0</td>\n",
              "      <td>0.0</td>\n",
              "    </tr>\n",
              "    <tr>\n",
              "      <th>2</th>\n",
              "      <td>100002</td>\n",
              "      <td>1</td>\n",
              "      <td>210000.0</td>\n",
              "    </tr>\n",
              "    <tr>\n",
              "      <th>3</th>\n",
              "      <td>100003</td>\n",
              "      <td>0</td>\n",
              "      <td>0.0</td>\n",
              "    </tr>\n",
              "    <tr>\n",
              "      <th>4</th>\n",
              "      <td>100004</td>\n",
              "      <td>1</td>\n",
              "      <td>5250000.0</td>\n",
              "    </tr>\n",
              "  </tbody>\n",
              "</table>\n",
              "</div>"
            ],
            "text/plain": [
              "       id  clasif_trxn    vlrtran\n",
              "0  100000            1   121600.0\n",
              "1  100001            0        0.0\n",
              "2  100002            1   210000.0\n",
              "3  100003            0        0.0\n",
              "4  100004            1  5250000.0"
            ]
          },
          "metadata": {
            "tags": []
          },
          "execution_count": 194
        }
      ]
    },
    {
      "cell_type": "code",
      "metadata": {
        "id": "V_E30kH--rqy",
        "colab_type": "code",
        "colab": {}
      },
      "source": [
        "#del trx_prueba\n",
        "\n",
        "tabla_financiera = trx_prueba_maestra[[\"id\", \"var_rpta\", \"clasif_trxn\", \"vlrtran\"]].drop_duplicates()"
      ],
      "execution_count": 0,
      "outputs": []
    },
    {
      "cell_type": "code",
      "metadata": {
        "id": "AmDllvRu-rq1",
        "colab_type": "code",
        "colab": {}
      },
      "source": [
        "tabla_financiera[\"clasif_trxn\"] = np.where(tabla_financiera[\"clasif_trxn\"] == 'No Financiera', 0, \n",
        "                                          np.where(tabla_financiera[\"clasif_trxn\"] == 'Financiera', 1, 0))"
      ],
      "execution_count": 0,
      "outputs": []
    },
    {
      "cell_type": "code",
      "metadata": {
        "id": "Pnvn2Gji-rq6",
        "colab_type": "code",
        "outputId": "84b00c4b-d5c5-41b9-b7ae-605519bec8d7",
        "colab": {}
      },
      "source": [
        "tabla_financiera = tabla_financiera.groupby([\"id\", \"var_rpta\"]).agg({'clasif_trxn': 'max',\n",
        "                                                                     'vlrtran': 'max'}).reset_index()\n",
        "tabla_financiera.head()"
      ],
      "execution_count": 0,
      "outputs": [
        {
          "output_type": "execute_result",
          "data": {
            "text/html": [
              "<div>\n",
              "<style scoped>\n",
              "    .dataframe tbody tr th:only-of-type {\n",
              "        vertical-align: middle;\n",
              "    }\n",
              "\n",
              "    .dataframe tbody tr th {\n",
              "        vertical-align: top;\n",
              "    }\n",
              "\n",
              "    .dataframe thead th {\n",
              "        text-align: right;\n",
              "    }\n",
              "</style>\n",
              "<table border=\"1\" class=\"dataframe\">\n",
              "  <thead>\n",
              "    <tr style=\"text-align: right;\">\n",
              "      <th></th>\n",
              "      <th>id</th>\n",
              "      <th>var_rpta</th>\n",
              "      <th>clasif_trxn</th>\n",
              "      <th>vlrtran</th>\n",
              "    </tr>\n",
              "  </thead>\n",
              "  <tbody>\n",
              "    <tr>\n",
              "      <th>0</th>\n",
              "      <td>1</td>\n",
              "      <td>0</td>\n",
              "      <td>0</td>\n",
              "      <td>0.0</td>\n",
              "    </tr>\n",
              "    <tr>\n",
              "      <th>1</th>\n",
              "      <td>10</td>\n",
              "      <td>0</td>\n",
              "      <td>1</td>\n",
              "      <td>1627500.0</td>\n",
              "    </tr>\n",
              "    <tr>\n",
              "      <th>2</th>\n",
              "      <td>100</td>\n",
              "      <td>0</td>\n",
              "      <td>0</td>\n",
              "      <td>0.0</td>\n",
              "    </tr>\n",
              "    <tr>\n",
              "      <th>3</th>\n",
              "      <td>1000</td>\n",
              "      <td>0</td>\n",
              "      <td>0</td>\n",
              "      <td>0.0</td>\n",
              "    </tr>\n",
              "    <tr>\n",
              "      <th>4</th>\n",
              "      <td>10000</td>\n",
              "      <td>0</td>\n",
              "      <td>0</td>\n",
              "      <td>0.0</td>\n",
              "    </tr>\n",
              "  </tbody>\n",
              "</table>\n",
              "</div>"
            ],
            "text/plain": [
              "      id  var_rpta  clasif_trxn    vlrtran\n",
              "0      1         0            0        0.0\n",
              "1     10         0            1  1627500.0\n",
              "2    100         0            0        0.0\n",
              "3   1000         0            0        0.0\n",
              "4  10000         0            0        0.0"
            ]
          },
          "metadata": {
            "tags": []
          },
          "execution_count": 20
        }
      ]
    },
    {
      "cell_type": "markdown",
      "metadata": {
        "id": "wsoJvzr4-rrA",
        "colab_type": "text"
      },
      "source": [
        "# Construcción de la ABT"
      ]
    },
    {
      "cell_type": "code",
      "metadata": {
        "id": "xquRX9Bp-rrB",
        "colab_type": "code",
        "colab": {}
      },
      "source": [
        "base = trx_prueba_maestra[[\"id\"]].drop_duplicates()\n",
        "\n",
        "sesiones_final[\"id\"] = sesiones_final[\"id\"].astype(str)\n",
        "fechas[\"id\"] = fechas[\"id\"].astype(str)\n",
        "conteo_cliente[\"id\"] = conteo_cliente['id'].astype(str)\n",
        "tabla_financiera[\"id\"] = tabla_financiera[\"id\"].astype(str)\n",
        "datos_etiqueta[\"id\"] = datos_etiqueta[\"id\"].astype(str)\n",
        "\n",
        "base = base.merge(sesiones_final, how = 'left', on = ['id'])\n",
        "base = base.merge(fechas[[\"id\", \"diff\"]], how = 'left', on = ['id'])\n",
        "base = base.merge(conteo_cliente[[\"id\", \"grupo_modifcado\", \"producto_asociado\"]], how = 'left', on = ['id'])\n",
        "base = base.merge(tabla_financiera[[\"id\", \"clasif_trxn\", \"vlrtran\"]], how = 'left', on = ['id'])\n",
        "base = base.merge(datos_etiqueta[[\"id\", \"segmento\"]], how = 'left', on = ['id'])"
      ],
      "execution_count": 0,
      "outputs": []
    },
    {
      "cell_type": "code",
      "metadata": {
        "id": "MbtRujoH-rrE",
        "colab_type": "code",
        "colab": {}
      },
      "source": [
        "#Intento \n",
        "\n",
        "base[\"nro_sesiones\"] = np.where(base[\"nro_sesiones\"] >= 100, 100, base[\"nro_sesiones\"])"
      ],
      "execution_count": 0,
      "outputs": []
    },
    {
      "cell_type": "code",
      "metadata": {
        "id": "c56C0jGv-rrK",
        "colab_type": "code",
        "outputId": "e76649b1-03e4-42c0-f0d9-90bd6af215e4",
        "colab": {}
      },
      "source": [
        "base.head()"
      ],
      "execution_count": 0,
      "outputs": [
        {
          "output_type": "execute_result",
          "data": {
            "text/html": [
              "<div>\n",
              "<style scoped>\n",
              "    .dataframe tbody tr th:only-of-type {\n",
              "        vertical-align: middle;\n",
              "    }\n",
              "\n",
              "    .dataframe tbody tr th {\n",
              "        vertical-align: top;\n",
              "    }\n",
              "\n",
              "    .dataframe thead th {\n",
              "        text-align: right;\n",
              "    }\n",
              "</style>\n",
              "<table border=\"1\" class=\"dataframe\">\n",
              "  <thead>\n",
              "    <tr style=\"text-align: right;\">\n",
              "      <th></th>\n",
              "      <th>id</th>\n",
              "      <th>var_rpta</th>\n",
              "      <th>nro_sesiones</th>\n",
              "      <th>diff</th>\n",
              "      <th>grupo_modifcado</th>\n",
              "      <th>producto_asociado</th>\n",
              "      <th>clasif_trxn</th>\n",
              "      <th>vlrtran</th>\n",
              "      <th>segmento</th>\n",
              "    </tr>\n",
              "  </thead>\n",
              "  <tbody>\n",
              "    <tr>\n",
              "      <th>0</th>\n",
              "      <td>50578</td>\n",
              "      <td>0</td>\n",
              "      <td>100</td>\n",
              "      <td>0.657534</td>\n",
              "      <td>12</td>\n",
              "      <td>8</td>\n",
              "      <td>1</td>\n",
              "      <td>9450000.0</td>\n",
              "      <td>4</td>\n",
              "    </tr>\n",
              "    <tr>\n",
              "      <th>1</th>\n",
              "      <td>50579</td>\n",
              "      <td>0</td>\n",
              "      <td>100</td>\n",
              "      <td>0.991781</td>\n",
              "      <td>10</td>\n",
              "      <td>9</td>\n",
              "      <td>1</td>\n",
              "      <td>1039500.0</td>\n",
              "      <td>5</td>\n",
              "    </tr>\n",
              "    <tr>\n",
              "      <th>2</th>\n",
              "      <td>50580</td>\n",
              "      <td>0</td>\n",
              "      <td>100</td>\n",
              "      <td>0.506849</td>\n",
              "      <td>9</td>\n",
              "      <td>6</td>\n",
              "      <td>1</td>\n",
              "      <td>0.0</td>\n",
              "      <td>0</td>\n",
              "    </tr>\n",
              "    <tr>\n",
              "      <th>3</th>\n",
              "      <td>50581</td>\n",
              "      <td>0</td>\n",
              "      <td>100</td>\n",
              "      <td>0.797260</td>\n",
              "      <td>7</td>\n",
              "      <td>5</td>\n",
              "      <td>0</td>\n",
              "      <td>0.0</td>\n",
              "      <td>1</td>\n",
              "    </tr>\n",
              "    <tr>\n",
              "      <th>4</th>\n",
              "      <td>50582</td>\n",
              "      <td>0</td>\n",
              "      <td>100</td>\n",
              "      <td>0.739726</td>\n",
              "      <td>2</td>\n",
              "      <td>3</td>\n",
              "      <td>0</td>\n",
              "      <td>0.0</td>\n",
              "      <td>5</td>\n",
              "    </tr>\n",
              "  </tbody>\n",
              "</table>\n",
              "</div>"
            ],
            "text/plain": [
              "      id  var_rpta  nro_sesiones      diff  grupo_modifcado  \\\n",
              "0  50578         0           100  0.657534               12   \n",
              "1  50579         0           100  0.991781               10   \n",
              "2  50580         0           100  0.506849                9   \n",
              "3  50581         0           100  0.797260                7   \n",
              "4  50582         0           100  0.739726                2   \n",
              "\n",
              "   producto_asociado  clasif_trxn    vlrtran  segmento  \n",
              "0                  8            1  9450000.0         4  \n",
              "1                  9            1  1039500.0         5  \n",
              "2                  6            1        0.0         0  \n",
              "3                  5            0        0.0         1  \n",
              "4                  3            0        0.0         5  "
            ]
          },
          "metadata": {
            "tags": []
          },
          "execution_count": 145
        }
      ]
    },
    {
      "cell_type": "markdown",
      "metadata": {
        "id": "qfJ_uELX-rrN",
        "colab_type": "text"
      },
      "source": [
        "# Modelos"
      ]
    },
    {
      "cell_type": "code",
      "metadata": {
        "id": "oFF4dImO-rrO",
        "colab_type": "code",
        "colab": {}
      },
      "source": [
        "#columnas_entrenamiento = ['nro_sesiones', \n",
        "#                          'diff', \n",
        "#                          'grupo_modifcado', \n",
        "#                          'producto_asociado', \n",
        "#                          'clasif_trxn', \n",
        "#                          'vlrtran', \n",
        "#                          'segmento']\n",
        "\n",
        "columnas_entrenamiento = ['nro_sesiones',\n",
        "                          'diff', \n",
        "                          'grupo_modifcado',\n",
        "                          'producto_asociado', \n",
        "                          'clasif_trxn', \n",
        "                          'vlrtran', \n",
        "                          'segmento']\n",
        "\n",
        "X = base.loc[:, columnas_entrenamiento]\n",
        "Y = base[\"var_rpta\"]"
      ],
      "execution_count": 0,
      "outputs": []
    },
    {
      "cell_type": "code",
      "metadata": {
        "id": "FNrW9LsV-rrR",
        "colab_type": "code",
        "colab": {}
      },
      "source": [
        "from sklearn.model_selection import train_test_split\n",
        "from sklearn.linear_model import LogisticRegression\n",
        "from sklearn.metrics import confusion_matrix\n",
        "from sklearn.metrics import roc_curve\n",
        "from sklearn.metrics import auc\n",
        "from sklearn.metrics import roc_auc_score"
      ],
      "execution_count": 0,
      "outputs": []
    },
    {
      "cell_type": "markdown",
      "metadata": {
        "id": "OROrP61_-rrV",
        "colab_type": "text"
      },
      "source": [
        "# Logística"
      ]
    },
    {
      "cell_type": "code",
      "metadata": {
        "id": "r5a87nqs-rrV",
        "colab_type": "code",
        "colab": {}
      },
      "source": [
        "modelo = LogisticRegression(random_state = 0, solver = 'newton-cg')"
      ],
      "execution_count": 0,
      "outputs": []
    },
    {
      "cell_type": "code",
      "metadata": {
        "id": "_atdQ-Ox-rrX",
        "colab_type": "code",
        "colab": {}
      },
      "source": [
        "modelo.fit(X_entr, Y_entr)\n",
        "\n",
        "Y_pred = modelo.predict_proba(X_test)"
      ],
      "execution_count": 0,
      "outputs": []
    },
    {
      "cell_type": "code",
      "metadata": {
        "id": "sbmCdZIz-rra",
        "colab_type": "code",
        "outputId": "cf9cf9a6-01dc-4d38-9116-5327a1ebf88d",
        "colab": {}
      },
      "source": [
        "fpr, tpr, thresholds  = roc_curve(np.array(Y_test), np.array([x[1] for x in np.array(Y_pred)]))\n",
        "\n",
        "plt.plot(fpr, tpr)\n",
        "\n",
        "roc_auc_score(np.array(Y_test), np.array([x[1] for x in np.array(Y_pred)]))"
      ],
      "execution_count": 0,
      "outputs": [
        {
          "output_type": "execute_result",
          "data": {
            "text/plain": [
              "0.6134573497414111"
            ]
          },
          "metadata": {
            "tags": []
          },
          "execution_count": 56
        },
        {
          "output_type": "display_data",
          "data": {
            "image/png": "[encoded data removed]",
            "text/plain": [
              "<Figure size 576x396 with 1 Axes>"
            ]
          },
          "metadata": {
            "tags": []
          }
        }
      ]
    },
    {
      "cell_type": "markdown",
      "metadata": {
        "id": "bIvcVB7v-rre",
        "colab_type": "text"
      },
      "source": [
        "# Random Forest"
      ]
    },
    {
      "cell_type": "code",
      "metadata": {
        "id": "WsHzYWNi-rrf",
        "colab_type": "code",
        "colab": {}
      },
      "source": [
        "from sklearn.ensemble import RandomForestClassifier"
      ],
      "execution_count": 0,
      "outputs": []
    },
    {
      "cell_type": "code",
      "metadata": {
        "id": "fbXYs36O-rrh",
        "colab_type": "code",
        "colab": {}
      },
      "source": [
        "modelo_1 = RandomForestClassifier(n_estimators = 1000, random_state = 42)"
      ],
      "execution_count": 0,
      "outputs": []
    },
    {
      "cell_type": "code",
      "metadata": {
        "id": "sXqUkXA4-rrk",
        "colab_type": "code",
        "outputId": "5c04f88a-47fc-44c4-a0b6-416d24b07c1d",
        "colab": {}
      },
      "source": [
        "modelo_1.fit(X_entr, Y_entr)"
      ],
      "execution_count": 0,
      "outputs": [
        {
          "output_type": "execute_result",
          "data": {
            "text/plain": [
              "RandomForestClassifier(bootstrap=True, class_weight=None, criterion='gini',\n",
              "            max_depth=None, max_features='auto', max_leaf_nodes=None,\n",
              "            min_impurity_decrease=0.0, min_impurity_split=None,\n",
              "            min_samples_leaf=1, min_samples_split=2,\n",
              "            min_weight_fraction_leaf=0.0, n_estimators=1000, n_jobs=None,\n",
              "            oob_score=False, random_state=42, verbose=0, warm_start=False)"
            ]
          },
          "metadata": {
            "tags": []
          },
          "execution_count": 226
        }
      ]
    },
    {
      "cell_type": "code",
      "metadata": {
        "id": "iJPyeUIR-rrl",
        "colab_type": "code",
        "colab": {}
      },
      "source": [
        "Y_1_pred = modelo_1.predict_proba(X_test)"
      ],
      "execution_count": 0,
      "outputs": []
    },
    {
      "cell_type": "code",
      "metadata": {
        "id": "P_QOEuEF-rrm",
        "colab_type": "code",
        "outputId": "01151f81-8d10-439f-e0df-1c02d98ebd44",
        "colab": {}
      },
      "source": [
        "fpr, tpr, thresholds  = roc_curve(np.array(Y_test), np.array([x[1] for x in np.array(Y_1_pred)]))\n",
        "score_auc = roc_auc_score(np.array(Y_test), np.array([x[1] for x in np.array(Y_1_pred)]))\n",
        "\n",
        "plt.plot(fpr, tpr)\n",
        "plt.plot(np.linspace(0,1,100), np.linspace(0,1,100), '--', color = 'black')\n",
        "plt.title(\"AUC: {}\".format(score_auc), fontsize = 16)"
      ],
      "execution_count": 0,
      "outputs": [
        {
          "output_type": "execute_result",
          "data": {
            "text/plain": [
              "Text(0.5, 1.0, 'AUC: 0.6369571844745765')"
            ]
          },
          "metadata": {
            "tags": []
          },
          "execution_count": 228
        },
        {
          "output_type": "display_data",
          "data": {
            "image/png": "[encoded data removed]",
            "text/plain": [
              "<Figure size 576x396 with 1 Axes>"
            ]
          },
          "metadata": {
            "tags": []
          }
        }
      ]
    },
    {
      "cell_type": "markdown",
      "metadata": {
        "id": "PO52RPsz-rro",
        "colab_type": "text"
      },
      "source": [
        "# Red neuronal"
      ]
    },
    {
      "cell_type": "code",
      "metadata": {
        "id": "o2Co7S1A-rro",
        "colab_type": "code",
        "colab": {}
      },
      "source": [
        "def evaluar_modelo(capa_oculta, neuronas):\n",
        "    X_entr, X_test, Y_entr, Y_test = train_test_split(X, Y, test_size = 0.30, random_state = 1)\n",
        "\n",
        "    scalar = StandardScaler()\n",
        "    X_entr = scalar.fit_transform(X_entr)\n",
        "    X_test = scalar.fit_transform(X_test)\n",
        "    \n",
        "    neural = MLPClassifier(solver='lbfgs', \n",
        "                       alpha=1e-5, \n",
        "                       hidden_layer_sizes = (capa_oculta, neuronas), \n",
        "                       random_state = 1, \n",
        "                       activation = 'relu',\n",
        "                        )\n",
        "    modelo_2 = neural.fit(X_entr, Y_entr)\n",
        "    Y_2_pred = modelo_2.predict_proba(X_test)\n",
        "    score_auc = roc_auc_score(np.array(Y_test), np.array([x[1] for x in np.array(Y_2_pred)]))\n",
        "\n",
        "    return score_auc"
      ],
      "execution_count": 0,
      "outputs": []
    },
    {
      "cell_type": "code",
      "metadata": {
        "id": "jmXqAYCX-rrr",
        "colab_type": "code",
        "colab": {}
      },
      "source": [
        "from sklearn.neural_network import MLPClassifier"
      ],
      "execution_count": 0,
      "outputs": []
    },
    {
      "cell_type": "code",
      "metadata": {
        "id": "zNI7DABb-rru",
        "colab_type": "code",
        "colab": {}
      },
      "source": [
        "from sklearn.preprocessing import StandardScaler\n",
        "from sklearn.neural_network import MLPClassifier"
      ],
      "execution_count": 0,
      "outputs": []
    },
    {
      "cell_type": "code",
      "metadata": {
        "id": "LFfKOud9-rrw",
        "colab_type": "code",
        "outputId": "a6da355f-fedd-447d-b2ec-4044d9d72730",
        "colab": {}
      },
      "source": [
        "X_entr, X_test, Y_entr, Y_test = train_test_split(X, Y, test_size = 0.33, random_state = 1)\n",
        "\n",
        "from sklearn.preprocessing import StandardScaler\n",
        "\n",
        "scalar = StandardScaler()\n",
        "X_entr = scalar.fit_transform(X_entr)\n",
        "X_test = scalar.fit_transform(X_test)"
      ],
      "execution_count": 0,
      "outputs": [
        {
          "output_type": "stream",
          "text": [
            "C:\\Users\\USER\\Anaconda3\\lib\\site-packages\\sklearn\\preprocessing\\data.py:645: DataConversionWarning: Data with input dtype int32, int64, float64 were all converted to float64 by StandardScaler.\n",
            "  return self.partial_fit(X, y)\n",
            "C:\\Users\\USER\\Anaconda3\\lib\\site-packages\\sklearn\\base.py:464: DataConversionWarning: Data with input dtype int32, int64, float64 were all converted to float64 by StandardScaler.\n",
            "  return self.fit(X, **fit_params).transform(X)\n",
            "C:\\Users\\USER\\Anaconda3\\lib\\site-packages\\sklearn\\preprocessing\\data.py:645: DataConversionWarning: Data with input dtype int32, int64, float64 were all converted to float64 by StandardScaler.\n",
            "  return self.partial_fit(X, y)\n",
            "C:\\Users\\USER\\Anaconda3\\lib\\site-packages\\sklearn\\base.py:464: DataConversionWarning: Data with input dtype int32, int64, float64 were all converted to float64 by StandardScaler.\n",
            "  return self.fit(X, **fit_params).transform(X)\n"
          ],
          "name": "stderr"
        }
      ]
    },
    {
      "cell_type": "code",
      "metadata": {
        "id": "9ooVeT4z-rrx",
        "colab_type": "code",
        "colab": {}
      },
      "source": [
        "neural = MLPClassifier(solver='lbfgs', \n",
        "                       alpha=1e-5, \n",
        "                       hidden_layer_sizes = (11, 100), \n",
        "                       activation = 'relu',\n",
        "                       max_iter = 500\n",
        "                        )"
      ],
      "execution_count": 0,
      "outputs": []
    },
    {
      "cell_type": "code",
      "metadata": {
        "id": "0kSZF4Zl-rrz",
        "colab_type": "code",
        "colab": {}
      },
      "source": [
        "modelo_2 = neural.fit(X_entr, Y_entr)"
      ],
      "execution_count": 0,
      "outputs": []
    },
    {
      "cell_type": "code",
      "metadata": {
        "id": "-JePc0lh-rr0",
        "colab_type": "code",
        "colab": {}
      },
      "source": [
        "Y_2_pred = modelo_2.predict_proba(X_test)"
      ],
      "execution_count": 0,
      "outputs": []
    },
    {
      "cell_type": "code",
      "metadata": {
        "id": "ulL3H_hV-rr2",
        "colab_type": "code",
        "colab": {}
      },
      "source": [
        "fpr, tpr, thresholds  = roc_curve(np.array(Y_test), np.array([x[1] for x in np.array(Y_2_pred)]))\n",
        "score_auc = roc_auc_score(np.array(Y_test), np.array([x[1] for x in np.array(Y_2_pred)]))\n",
        "\n",
        "plt.style.use([\"seaborn\"])\n",
        "plt.plot(fpr, tpr)\n",
        "plt.plot(np.linspace(0,1,100), np.linspace(0,1,100), '--', color = 'black')\n",
        "plt.title(\"Red neuronal, AUC: {}\".format(score_auc), fontsize = 16)"
      ],
      "execution_count": 0,
      "outputs": []
    },
    {
      "cell_type": "code",
      "metadata": {
        "id": "-FG5EkAe-rr5",
        "colab_type": "code",
        "colab": {}
      },
      "source": [
        ""
      ],
      "execution_count": 0,
      "outputs": []
    },
    {
      "cell_type": "markdown",
      "metadata": {
        "id": "oaKczLg9-rr-",
        "colab_type": "text"
      },
      "source": [
        "texto en cursiva# Predicción"
      ]
    },
    {
      "cell_type": "code",
      "metadata": {
        "id": "3XDMg8mm-rr-",
        "colab_type": "code",
        "colab": {}
      },
      "source": [
        "columnas_entrenamiento = ['nro_sesiones',\n",
        "                          'diff', \n",
        "                          'grupo_modifcado',\n",
        "                          'producto_asociado', \n",
        "                          'clasif_trxn', \n",
        "                          'vlrtran', \n",
        "                          'segmento']\n",
        "\n",
        "X = base.loc[:, columnas_entrenamiento]\n",
        "\n",
        "scalar = StandardScaler()\n",
        "X_pred = scalar.fit_transform(X)"
      ],
      "execution_count": 0,
      "outputs": []
    },
    {
      "cell_type": "code",
      "metadata": {
        "id": "lDkxFsKf-rr_",
        "colab_type": "code",
        "outputId": "a95a144b-4de5-4b5e-a23d-f01e4bdb1521",
        "colab": {}
      },
      "source": [
        "X_pred"
      ],
      "execution_count": 0,
      "outputs": [
        {
          "output_type": "execute_result",
          "data": {
            "text/plain": [
              "array([[-0.53836651, -1.08880546, -0.46536453, ..., -0.90194926,\n",
              "        -0.03846129,  0.80404152],\n",
              "       [ 1.25341778,  0.95495523,  0.42659624, ...,  1.10870982,\n",
              "        -0.03788911,  0.80404152],\n",
              "       [ 0.41939031,  0.58999797, -0.76268479, ..., -0.90194926,\n",
              "        -0.03202453,  0.80404152],\n",
              "       ...,\n",
              "       [ 0.8730646 ,  1.0133484 ,  1.02123675, ...,  1.10870982,\n",
              "        -0.03774607,  0.80404152],\n",
              "       [ 0.02528942,  0.10095523,  1.02123675, ...,  1.10870982,\n",
              "        -0.03768706,  0.80404152],\n",
              "       [-0.65751329, -0.75304478, -0.76268479, ..., -0.90194926,\n",
              "        -0.03846129,  0.29155918]])"
            ]
          },
          "metadata": {
            "tags": []
          },
          "execution_count": 273
        }
      ]
    },
    {
      "cell_type": "code",
      "metadata": {
        "id": "JALD4zD1-rsB",
        "colab_type": "code",
        "colab": {}
      },
      "source": [
        "Y_pred = modelo_2.predict_proba(X_pred)"
      ],
      "execution_count": 0,
      "outputs": []
    },
    {
      "cell_type": "code",
      "metadata": {
        "id": "DURqKLK3-rsC",
        "colab_type": "code",
        "outputId": "0dc71ecd-0767-4b87-ff96-139414df12d2",
        "colab": {}
      },
      "source": [
        "Y_pred"
      ],
      "execution_count": 0,
      "outputs": [
        {
          "output_type": "execute_result",
          "data": {
            "text/plain": [
              "array([[0.89386563, 0.10613437],\n",
              "       [0.95181357, 0.04818643],\n",
              "       [0.90223237, 0.09776763],\n",
              "       ...,\n",
              "       [0.96947721, 0.03052279],\n",
              "       [0.92872245, 0.07127755],\n",
              "       [0.98145258, 0.01854742]])"
            ]
          },
          "metadata": {
            "tags": []
          },
          "execution_count": 275
        }
      ]
    },
    {
      "cell_type": "code",
      "metadata": {
        "id": "yX3IAMxc-rsE",
        "colab_type": "code",
        "colab": {}
      },
      "source": [
        "tabla_final = pd.DataFrame()\n",
        "tabla_final[\"id\"] = base[\"id\"]\n",
        "tabla_final[\"pred\"] = np.array([x[1] for x in Y_pred])"
      ],
      "execution_count": 0,
      "outputs": []
    },
    {
      "cell_type": "code",
      "metadata": {
        "id": "OTI3rm0t-rsG",
        "colab_type": "code",
        "colab": {}
      },
      "source": [
        "tabla_final.to_csv('D:\\\\Datos\\\\Dataton\\\\archivo_kaggle.csv', sep = ',', header = True, index = False)"
      ],
      "execution_count": 0,
      "outputs": []
    },
    {
      "cell_type": "code",
      "metadata": {
        "id": "TauZFy0y_CcL",
        "colab_type": "code",
        "colab": {}
      },
      "source": [
        ""
      ],
      "execution_count": 0,
      "outputs": []
    },
    {
      "cell_type": "markdown",
      "metadata": {
        "id": "fRInEaXB_NnD",
        "colab_type": "text"
      },
      "source": [
        "## **Creación de función para datos de entrenamiento y datos de predicción**"
      ]
    },
    {
      "cell_type": "code",
      "metadata": {
        "id": "G4fLaUif_Uo8",
        "colab_type": "code",
        "colab": {}
      },
      "source": [
        "def creacion_tabla(tipo):\n",
        "  '''Creación de función condensada para\n",
        "     el set de entrenamiento y de prueba'''\n",
        "\n",
        "  if tipo == 'entr':\n",
        "\n",
        "    # Carga de los datos\n",
        "    ruta = 'D:\\\\Datos\\\\Dataton\\\\'\n",
        "\n",
        "    archivo_etiquetas = 'DT19_Datos_Var_Rpta_train.csv'\n",
        "    archivo_datos = 'DT19_Datos_transaccionales_train.csv'\n",
        "    archivo_maestra = 'DT19_maestro_cdgtrn_cdgrpta.csv'\n",
        "\n",
        "    datos_etiqueta = pd.read_csv(ruta + archivo_etiquetas).drop_duplicates()\n",
        "    datos = pd.read_csv(ruta + archivo_datos).drop_duplicates()\n",
        "    datos_maestra = pd.read_csv(ruta + archivo_maestra, sep = ';').drop_duplicates()\n",
        "\n",
        "    # Pegar las etiquetas a los datos transaccionales\n",
        "    trx_prueba = datos.merge(datos_etiqueta, how = 'inner', on = ['id'])\n",
        "    del datos\n",
        "\n",
        "    # Conteo correcto de sesiones\n",
        "    trx_prueba[\"medio\"] = trx_prueba[\"canal\"] + trx_prueba[\"disposit\"]\n",
        "    df_cliente_sesion = trx_prueba[[\"id\", \"medio\", \"sesion\", \"var_rpta\"]].groupby([\"id\", \"var_rpta\", \"medio\"]).sesion.max().to_frame(name = 'conteo').reset_index()\n",
        "    sesiones_final = df_cliente_sesion.groupby([\"id\", \"var_rpta\"]).conteo.sum().to_frame(name = 'nro_sesiones').reset_index()\n",
        "\n",
        "    # Creación del rango de las fechas (diff)\n",
        "    fechas = trx_prueba.groupby([\"id\", \"var_rpta\"]).fecha_trxn.agg([\"max\", \"min\"]).reset_index()\n",
        "    fechas[\"max\"] = pd.to_datetime(fechas[\"max\"])\n",
        "    fechas[\"min\"] = pd.to_datetime(fechas[\"min\"])\n",
        "    fechas[\"diff\"] = (fechas[\"max\"] - fechas[\"min\"]).map(lambda x: (x.days)/365)\n",
        "    \n",
        "    # Código y transacción\n",
        "    trx_prueba[\"id\"] = trx_prueba[\"id\"].astype(str)\n",
        "    trx_prueba[\"cdgtrn\"] = trx_prueba[\"cdgtrn\"].astype(str)\n",
        "    trx_prueba[\"cdgrpta\"] = trx_prueba[\"cdgrpta\"].astype(str)\n",
        "\n",
        "    datos_maestra[\"cdgtrn\"] = datos_maestra[\"cdgtrn\"].astype(str)\n",
        "    datos_maestra[\"cdgrpta\"] = datos_maestra[\"cdgrpta\"].astype(str)\n",
        "\n",
        "    trx_prueba_maestra = trx_prueba.merge(datos_maestra, how = 'left', on = ['canal', 'disposit', 'cdgtrn', 'cdgrpta'])\n",
        "\n",
        "    conteo_cliente = trx_prueba_maestra.groupby([\"id\", \"var_rpta\"]).agg({\n",
        "                                      \"canal\": 'nunique', \n",
        "                                      \"disposit\": 'nunique',\n",
        "                                      \"medio\" : 'nunique',\n",
        "                                      \"grupo_modifcado\": 'nunique',\n",
        "                                      \"producto_asociado\" : 'nunique'}).reset_index()\n",
        "\n",
        "    # Tabla con datos financieros\n",
        "    tabla_financiera = trx_prueba_maestra[[\"id\", \"clasif_trxn\", \"vlrtran\"]].drop_duplicates()\n",
        "    tabla_financiera[\"clasif_trxn\"] = np.where(tabla_financiera[\"clasif_trxn\"] == 'No Financiera', 0, \n",
        "                                          np.where(tabla_financiera[\"clasif_trxn\"] == 'Financiera', 1, 0))\n",
        "    \n",
        "    tabla_financiera = tabla_financiera.groupby([\"id\", \"var_rpta\"]).agg({'clasif_trxn': 'max',\n",
        "                                                                     'vlrtran': 'max'}).reset_index()\n",
        "\n",
        "    # Creación de la variable de brecha\n",
        "\n",
        "\n",
        "\n",
        "    ###################################\n",
        "\n",
        "    # Creación de la ABT\n",
        "    base = trx_prueba_maestra[[\"id\"]].drop_duplicates()\n",
        "\n",
        "    sesiones_final[\"id\"] = sesiones_final[\"id\"].astype(str)\n",
        "    fechas[\"id\"] = fechas[\"id\"].astype(str)\n",
        "    conteo_cliente[\"id\"] = conteo_cliente['id'].astype(str)\n",
        "    tabla_financiera[\"id\"] = tabla_financiera[\"id\"].astype(str)\n",
        "    datos_etiqueta[\"id\"] = datos_etiqueta[\"id\"].astype(str)\n",
        "\n",
        "    base = base.merge(sesiones_final, how = 'left', on = ['id'])\n",
        "    base = base.merge(fechas[[\"id\", \"diff\"]], how = 'left', on = ['id'])\n",
        "    base = base.merge(conteo_cliente[[\"id\", \"grupo_modifcado\", \"producto_asociado\"]], how = 'left', on = ['id'])\n",
        "    base = base.merge(tabla_financiera[[\"id\", \"clasif_trxn\", \"vlrtran\"]], how = 'left', on = ['id'])\n",
        "    base = base.merge(datos_etiqueta[[\"id\", \"segmento\"]], how = 'left', on = ['id'])\n",
        "\n",
        "    del trx_prueba_maestra\n",
        "    del trx_prueba\n",
        "\n",
        "    return base\n",
        "\n",
        "  else:\n",
        "    \n",
        "    archivo_etiquetas = 'DT19_Datos_Var_Rpta_predict.csv'\n",
        "    archivo_datos = 'DT19_Datos_transaccionales_predict.csv'\n",
        "    archivo_maestra = 'DT19_maestro_cdgtrn_cdgrpta.csv'\n",
        "\n",
        "    datos_etiqueta = pd.read_csv(ruta + archivo_etiquetas).drop_duplicates()\n",
        "    trx_prueba = pd.read_csv(ruta + archivo_datos).drop_duplicates()\n",
        "    datos_maestra = pd.read_csv(ruta + archivo_maestra, sep = ';').drop_duplicates()\n",
        "\n",
        "    # Conteo correcto de sesiones\n",
        "    trx_prueba[\"medio\"] = trx_prueba[\"canal\"] + trx_prueba[\"disposit\"]\n",
        "    df_cliente_sesion = trx_prueba[[\"id\", \"medio\", \"sesion\"]].groupby([\"id\", \"var_rpta\", \"medio\"]).sesion.max().to_frame(name = 'conteo').reset_index()\n",
        "    sesiones_final = df_cliente_sesion.groupby([\"id\"]).conteo.sum().to_frame(name = 'nro_sesiones').reset_index()\n",
        "\n",
        "    # Creación del rango de las fechas (diff)\n",
        "    fechas = trx_prueba.groupby([\"id\"]).fecha_trxn.agg([\"max\", \"min\"]).reset_index()\n",
        "    fechas[\"max\"] = pd.to_datetime(fechas[\"max\"])\n",
        "    fechas[\"min\"] = pd.to_datetime(fechas[\"min\"])\n",
        "    fechas[\"diff\"] = (fechas[\"max\"] - fechas[\"min\"]).map(lambda x: (x.days)/365)\n",
        "    \n",
        "    # Código y transacción\n",
        "    trx_prueba[\"id\"] = trx_prueba[\"id\"].astype(str)\n",
        "    trx_prueba[\"cdgtrn\"] = trx_prueba[\"cdgtrn\"].astype(str)\n",
        "    trx_prueba[\"cdgrpta\"] = trx_prueba[\"cdgrpta\"].astype(str)\n",
        "\n",
        "    datos_maestra[\"cdgtrn\"] = datos_maestra[\"cdgtrn\"].astype(str)\n",
        "    datos_maestra[\"cdgrpta\"] = datos_maestra[\"cdgrpta\"].astype(str)\n",
        "\n",
        "    trx_prueba_maestra = trx_prueba.merge(datos_maestra, how = 'left', on = ['canal', 'disposit', 'cdgtrn', 'cdgrpta'])\n",
        "\n",
        "    conteo_cliente = trx_prueba_maestra.groupby([\"id\"]).agg({\n",
        "                                      \"canal\": 'nunique', \n",
        "                                      \"disposit\": 'nunique',\n",
        "                                      \"medio\" : 'nunique',\n",
        "                                      \"grupo_modifcado\": 'nunique',\n",
        "                                      \"producto_asociado\" : 'nunique'}).reset_index()\n",
        "\n",
        "    # Tabla con datos financieros\n",
        "    tabla_financiera = trx_prueba_maestra[[\"id\", \"clasif_trxn\"]].drop_duplicates()\n",
        "    tabla_financiera[\"clasif_trxn\"] = np.where(tabla_financiera[\"clasif_trxn\"] == 'No Financiera', 0, \n",
        "                                          np.where(tabla_financiera[\"clasif_trxn\"] == 'Financiera', 1, 0))\n",
        "    \n",
        "    tabla_financiera = tabla_financiera.groupby([\"id\"]).agg({'clasif_trxn': 'max',\n",
        "                                                                     'vlrtran': 'max'}).reset_index()\n",
        "\n",
        "    # Creación de la variable de brecha\n",
        "\n",
        "\n",
        "\n",
        "    ###################################\n",
        "\n",
        "    # Creación de la ABT\n",
        "    base = trx_prueba_maestra[[\"id\"]].drop_duplicates()\n",
        "\n",
        "    sesiones_final[\"id\"] = sesiones_final[\"id\"].astype(str)\n",
        "    fechas[\"id\"] = fechas[\"id\"].astype(str)\n",
        "    conteo_cliente[\"id\"] = conteo_cliente['id'].astype(str)\n",
        "    tabla_financiera[\"id\"] = tabla_financiera[\"id\"].astype(str)\n",
        "    datos_etiqueta[\"id\"] = datos_etiqueta[\"id\"].astype(str)\n",
        "\n",
        "    base = base.merge(sesiones_final, how = 'left', on = ['id'])\n",
        "    base = base.merge(fechas[[\"id\", \"diff\"]], how = 'left', on = ['id'])\n",
        "    base = base.merge(conteo_cliente[[\"id\", \"grupo_modifcado\", \"producto_asociado\"]], how = 'left', on = ['id'])\n",
        "    base = base.merge(tabla_financiera[[\"id\", \"clasif_trxn\", \"vlrtran\"]], how = 'left', on = ['id'])\n",
        "    base = base.merge(datos_etiqueta[[\"id\", \"segmento\"]], how = 'left', on = ['id'])\n",
        "\n",
        "    del trx_prueba_maestra\n",
        "    del trx_prueba\n",
        "\n",
        "    return base\n"
      ],
      "execution_count": 0,
      "outputs": []
    },
    {
      "cell_type": "code",
      "metadata": {
        "id": "QmoumyBfGDmr",
        "colab_type": "code",
        "colab": {}
      },
      "source": [
        ""
      ],
      "execution_count": 0,
      "outputs": []
    }
  ]
}